{
  "cells": [
    {
      "cell_type": "markdown",
      "metadata": {
        "id": "_0zDn2ghj_Mn"
      },
      "source": [
        " # Opis zadania\n",
        " W tym notatniku stworzymy system analityczno-raportowy, mający wspomagać przyszłe decyzje biznesowe. Dzięki przeprowadzonej wcześniej analizie eksploracyjnej danych, w trakcie spotkania prezentującego wykonaną pracę postanowiono w pierwszym kroku stworzyć następujące wizualizacje danych:\n",
        " - Wyświetlenie TOP 10 tras samolotów pod względem najniższego odsetka opóźnień w formie tabeli,\n",
        " - Wyświetlenie porównania roku 2019 oraz 2020 w formie wykresu słupkowego:\n",
        "     - miesiąc do miesiąca,\n",
        "     - dzień tygodnia do dnia tygodnia,\n",
        " - Wyświetlenie danych dzień po dniu w formie szeregu czasowego.\n",
        "\n",
        "Raport powinien składać się z trzech stron - `TOP report`, `Comparision` i `Day by day reliability`.\n",
        "\n",
        "Pracując na podstawie wcześniej zdefiniowanych widoków, nie musimy się tutaj martwić o przetwarzanie oraz procesowanie danych. Co więcej, wszystkie niuanse techniczne w postaci liczby wierszy, wykonywanych złączeń, filtracji są przeniesione na bazę danych. Z technicznego punktu widzenia, pomiędzy serwisem a bazą danych dochodzi do przesyłania mniejszej ilości danych.\n",
        "\n",
        "Dopuszczamy jednak pewne aktualizacje co do ich struktury przykładowo poprzez _pivotowanie_, czyli obranie i doprowadzanie do postaci tej znanej z tabel przestawnych.\n",
        "\n",
        "> **Uwaga:**  \n",
        "> Przy pracy nad poprawkami w dashboardzie, pamiętaj, że aby odświeżyć stronę po wprowadzonych zmianach, należy **całość** uruchomić ponownie."
      ]
    },
    {
      "cell_type": "markdown",
      "metadata": {
        "id": "Ac05tZ9-j_Mt"
      },
      "source": [
        " Tutaj zaimportuj potrzebne biblioteki"
      ]
    },
    {
      "cell_type": "code",
      "execution_count": null,
      "metadata": {
        "id": "O0YTT6cij_Mv"
      },
      "outputs": [],
      "source": []
    },
    {
      "cell_type": "markdown",
      "metadata": {
        "id": "6Hpb9_tbj_Mw"
      },
      "source": [
        " ## Konfiguracja połączenia\n",
        " Tutaj uzupełnij konfigurację połączenia"
      ]
    },
    {
      "cell_type": "code",
      "execution_count": null,
      "metadata": {
        "id": "tykW5rZ6j_Mx"
      },
      "outputs": [],
      "source": []
    },
    {
      "cell_type": "markdown",
      "metadata": {
        "id": "SgDvt_NOj_Mx"
      },
      "source": [
        " Tutaj zdefiniuj zmienną `con` oraz `cursor`"
      ]
    },
    {
      "cell_type": "code",
      "execution_count": null,
      "metadata": {
        "id": "w5HldqQPj_My"
      },
      "outputs": [],
      "source": []
    },
    {
      "cell_type": "markdown",
      "metadata": {
        "id": "LId0W3uRj_Mz"
      },
      "source": [
        " # Stworzenie tabeli dla `TOP 10 routes`\n",
        " W tym miejscu przygotujemy tabelkę oraz komponent, który zostanie następnie umieszczony w raporcie. Tabela powinna się składać z następujących kolumn:\n",
        " - Origin,\n",
        " - Destination,\n",
        " - Year,\n",
        " - Reliability,\n",
        " - Rank.\n",
        "\n",
        "Wartości procentowe zaś powinny być postaci np. 13.87%.\n",
        "\n",
        "Z tego względu konieczna będzie zmiana nazw kolumn dla wyników raportowania.\n",
        "\n",
        "Wskazówki:\n",
        " - `Python - analiza danych > Dzień 5 - Pandas > Obróbka danych - część 2 > apply`,\n",
        " - [How to format percentage in python](https://stackoverflow.com/questions/5306756/how-to-print-a-percentage-value-in-python)."
      ]
    },
    {
      "cell_type": "markdown",
      "metadata": {
        "id": "5pHx88-9j_M0"
      },
      "source": [
        " Tutaj zaczytaj dane do ramki danych `top_routes_df` z widoku `reporting.top_reliability_roads`\n",
        " > Jeśli pojawi się komunikat `UserWarning: pandas only support SQLAlchemy`, z naszego punktu widzenia, możemy go śmiało zignorować."
      ]
    },
    {
      "cell_type": "code",
      "execution_count": null,
      "metadata": {
        "id": "Q42mfUu0j_M1"
      },
      "outputs": [],
      "source": []
    },
    {
      "cell_type": "markdown",
      "metadata": {
        "id": "sRGN-kpwj_M1"
      },
      "source": [
        " Tutaj dokonaj aktualizacji formatu liczbowego dla kolumny `reliability`"
      ]
    },
    {
      "cell_type": "code",
      "execution_count": null,
      "metadata": {
        "id": "GanEshPJj_M2"
      },
      "outputs": [],
      "source": []
    },
    {
      "cell_type": "markdown",
      "metadata": {
        "id": "7CPfKR-Fj_M2"
      },
      "source": [
        " Tutaj odpowiednio dokonaj zmian nazewnictwa kolumn"
      ]
    },
    {
      "cell_type": "code",
      "execution_count": null,
      "metadata": {
        "id": "lBslN4wPj_M2"
      },
      "outputs": [],
      "source": []
    },
    {
      "cell_type": "markdown",
      "metadata": {
        "id": "49mdQ24mj_M3"
      },
      "source": [
        " # Porównanie rok do roku (YoY) 2019 vs. 2020\n",
        " W tym miejscu stworzymy wykres oraz komponent, który zostanie następnie umieszczony w raporcie. Wykres powinien przedstawiać porównanie lat 2019 oraz 2020 po miesiącach względem zmiennej `reliability`.\n",
        "\n",
        " > Na wykresie chcemy również przedstawić dane, które nie mają porównania tj. od kwietnia do grudnia 2019.\n",
        "\n",
        "W tym celu wykonamy poniższe zadania:\n",
        " - Przekształcimy tabelkę do formy tabeli przestawnej\n",
        " - Stworzymy wykres słupkowy porównujący dane rok do roku\n",
        " - Opakujemy stworzony wykres w komponent `Dash`\n",
        "\n",
        "Wskazówki:\n",
        " - `Wizualizacja danych > Dzień 3 > Dash`,\n",
        " - `Wizualizacja danych > Dzień 1 > Budowanie wykresów plotly`,\n",
        " - `Python - analiza danych > Dzień 6 - Pandas c.d > Pivot`."
      ]
    },
    {
      "cell_type": "markdown",
      "metadata": {
        "id": "Ns6bBbCqj_M3"
      },
      "source": [
        " Tutaj pobierz z widoku `reporting.year_to_year_comparision` dane do ramki `yoy_comparision_df`"
      ]
    },
    {
      "cell_type": "code",
      "execution_count": null,
      "metadata": {
        "id": "WeMPGv8Jj_M4"
      },
      "outputs": [],
      "source": []
    },
    {
      "cell_type": "markdown",
      "metadata": {
        "id": "cPq6ZSiVj_M4"
      },
      "source": [
        " Tutaj odpowiednio przekształć ramkę - do formy oczekiwanej przez wykres słupkowy. Wyniki zapisz do zmiennej `yoy_comparision_to_plot_df`"
      ]
    },
    {
      "cell_type": "code",
      "execution_count": null,
      "metadata": {
        "id": "GNsamu6qj_M5"
      },
      "outputs": [],
      "source": []
    },
    {
      "cell_type": "markdown",
      "metadata": {
        "id": "iXrGHsuhj_M5"
      },
      "source": [
        " Tutaj stwórz odpowiedni wykres, zapisz do na później pod nazwą `yoy_comparision_fig`. Pamiętaj o dobrych praktykach - niech wykres posiada wszystkie opisy oraz opisowe etykiety osi."
      ]
    },
    {
      "cell_type": "code",
      "execution_count": null,
      "metadata": {
        "id": "8HM7T1JGj_M6"
      },
      "outputs": [],
      "source": []
    },
    {
      "cell_type": "markdown",
      "metadata": {
        "id": "v6mt7GWNj_M6"
      },
      "source": [
        " # Porównanie dzień tygodnia do dnia tygodnia (WKoWK) 2019 vs. 2020\n",
        " Wykonaj analogiczne do poprzedniego kroku, używając jednak w tym momencie danych z widoku `reporting.day_to_day_comparision`"
      ]
    },
    {
      "cell_type": "markdown",
      "metadata": {
        "id": "2Je8FqQ-j_M6"
      },
      "source": [
        " Tutaj pobierz z widoku `reporting.day_to_day_comparision` dane do ramki `day_to_day_comparision_df`"
      ]
    },
    {
      "cell_type": "code",
      "execution_count": null,
      "metadata": {
        "id": "uGkE3fqnj_M6"
      },
      "outputs": [],
      "source": []
    },
    {
      "cell_type": "markdown",
      "metadata": {
        "id": "jLT19Ylsj_M6"
      },
      "source": [
        " Tutaj odpowiednio przekształć ramkę - do formy oczekiwanej przez wykres słupkowy. Wyniki zapisz do zmiennej `day_to_day_comparision_to_plot_df`"
      ]
    },
    {
      "cell_type": "code",
      "execution_count": null,
      "metadata": {
        "id": "pATfMkRRj_M7"
      },
      "outputs": [],
      "source": []
    },
    {
      "cell_type": "markdown",
      "metadata": {
        "id": "Sxvy1GRwj_M7"
      },
      "source": [
        " Tutaj stwórz odpowiedni wykres, zapisz go na później pod nazwą `day_to_day_comparision_fig`. Pamiętaj o dobrych praktykach - niech wykres posiada wszystkie opisy oraz opisowe etykiety osi."
      ]
    },
    {
      "cell_type": "code",
      "execution_count": null,
      "metadata": {
        "id": "fJ0LGCtUj_M7"
      },
      "outputs": [],
      "source": []
    },
    {
      "cell_type": "markdown",
      "metadata": {
        "id": "54D_OmvEj_M7"
      },
      "source": [
        " # Stworzenie szeregu czasowego\n",
        " W tym miejscu stworzymy wykres w formie szeregu czasowego, który zostanie umieszcony w raporcie. Wykres powinien przedstawiać dane w formie szeregu czasowego (dzień po dniu) dla lat 2019 oraz 2020. Dla możliwości identyfikacji poszczególnych lat, zostaliśmy dodatkowo poproszeni o nadanie innego koloru dla roku 2019 oraz 2020.\n",
        "\n",
        " > Pamiętaj o stworzeniu wykresu zgodnie z dobrymi praktykami."
      ]
    },
    {
      "cell_type": "markdown",
      "metadata": {
        "id": "XXQCq-6uj_M7"
      },
      "source": [
        " W tym miejscu pobierz dane do ramki `day_by_day_reliability_df`, z widoku `reporting.day_by_day_reliability`."
      ]
    },
    {
      "cell_type": "code",
      "execution_count": null,
      "metadata": {
        "id": "xompqov3j_M8"
      },
      "outputs": [],
      "source": []
    },
    {
      "cell_type": "markdown",
      "metadata": {
        "id": "zopaWtsZj_M8"
      },
      "source": [
        " Tutaj stwórz wykres liniowy na podstawie pobranych danych. Wynik zapisz do zmiennej `day_by_day_reliability_fig`."
      ]
    },
    {
      "cell_type": "code",
      "execution_count": null,
      "metadata": {
        "id": "HLVoZHzLj_M8"
      },
      "outputs": [],
      "source": []
    },
    {
      "cell_type": "markdown",
      "metadata": {
        "id": "xfJEY7Opj_M8"
      },
      "source": [
        " # Stworzenie layoutów poszczególnych stron"
      ]
    },
    {
      "cell_type": "markdown",
      "metadata": {
        "id": "dWVVFmlhj_M8"
      },
      "source": [
        " ## Stworzenie layout dla widoku `TOP 10 routes`\n",
        " W tym momencie przekonwertujemy zmienną `top_routes_df` w postać `Dash.DataTable`. Dodatkowo, dla czytelności, dodamy nagłówek opisujący co tabela przedstawia.\n",
        "\n",
        " Nagłówek wystylizuj używając poniższych wymagań:\n",
        " - tag: `H3`,\n",
        " - czcionka: `verdana`,\n",
        " - kolor: '#4444`,\n",
        " - tekst do wyświetlenia: `TOP 10 reliability routes in 2019 and 2020`\n",
        "\n",
        "Wskazówki:\n",
        " - `Wizualizacja danych > Dzień 3 > Dash`,\n",
        " - `Wizualizacja danych > Dzień 3 > Dash - datatable`,\n",
        " - Dokmentacja metody `Pandas` - [to_dict](https://pandas.pydata.org/docs/reference/api/pandas.DataFrame.to_dict.html)."
      ]
    },
    {
      "cell_type": "markdown",
      "metadata": {
        "id": "Ek6p28w0j_M8"
      },
      "source": [
        " Tutaj przygotuj komponent `Dash` `DataTable`, zapisując wynik do zmiennej `top_routes_table`"
      ]
    },
    {
      "cell_type": "code",
      "execution_count": null,
      "metadata": {
        "id": "OpcNYs1_j_M9"
      },
      "outputs": [],
      "source": []
    },
    {
      "cell_type": "markdown",
      "metadata": {
        "id": "VbOwYRc1j_M9"
      },
      "source": [
        " Tutaj przygotuj nagłówek dla tabeli, zapisz go pod nazwą `top_routes_page_title`"
      ]
    },
    {
      "cell_type": "code",
      "execution_count": null,
      "metadata": {
        "id": "kCVBit99j_M9"
      },
      "outputs": [],
      "source": []
    },
    {
      "cell_type": "markdown",
      "metadata": {
        "id": "NKVFPN-Lj_M9"
      },
      "source": [
        " Tutaj przygotuj layout dla widoku `TOP 10 routes`. Konfigurację zapisz do zmiennej `top_routes_layout`"
      ]
    },
    {
      "cell_type": "code",
      "execution_count": null,
      "metadata": {
        "id": "SgC9ibw6j_M9"
      },
      "outputs": [],
      "source": []
    },
    {
      "cell_type": "markdown",
      "metadata": {
        "id": "lWud25qij_M-"
      },
      "source": [
        " ## Stworzenie layout dla widoku `Comparision`\n",
        " W tym momencie opakujemy zmienne `yoy_comparision_fig` oraz `day_to_day_comparision_fig` do komponentów `Dash`, a następnie stworzymy odpowiedni `layout` dla strony `comparision`. Wyniki zapiszemy do zmiennej `comparision_layout`."
      ]
    },
    {
      "cell_type": "markdown",
      "metadata": {
        "id": "hjpQzwpRj_M-"
      },
      "source": [
        " Tutaj opakuj `yoy_comparision_fig` w odpowiedni komponent `Dash`. Wynik zapisz do zmiennej `yoy_comparision_component`."
      ]
    },
    {
      "cell_type": "code",
      "execution_count": null,
      "metadata": {
        "id": "H1XsT0yqj_M-"
      },
      "outputs": [],
      "source": []
    },
    {
      "cell_type": "markdown",
      "metadata": {
        "id": "NGOgrlfXj_M-"
      },
      "source": [
        " Tutaj opakuj `day_to_day_comparision_fig` w odpowiedni komponent `Dash`. Wynik zapisz do zmiennej `day_to_day_comparision_component`."
      ]
    },
    {
      "cell_type": "code",
      "execution_count": null,
      "metadata": {
        "id": "0ep-Xo9_j_M-"
      },
      "outputs": [],
      "source": []
    },
    {
      "cell_type": "markdown",
      "metadata": {
        "id": "bHlXZ51Uj_M-"
      },
      "source": [
        " Tutaj stwórz odpowiedni `layout` dla widoku `comparision`. Wynik zapisz do zmiennej `comparision_layout`."
      ]
    },
    {
      "cell_type": "code",
      "execution_count": null,
      "metadata": {
        "id": "1x303auej_M_"
      },
      "outputs": [],
      "source": []
    },
    {
      "cell_type": "markdown",
      "metadata": {
        "id": "fdrkfwpkj_M_"
      },
      "source": [
        " Tutaj stwórz odpowiedni `layout` dla widoku `day by day`. Wynik zapisz do zmiennej `day_by_day_layout`."
      ]
    },
    {
      "cell_type": "markdown",
      "metadata": {
        "id": "8CVXLudYj_M_"
      },
      "source": [
        " # Konfigurowanie aplikacji\n",
        " Posiadamy już wszystkie niezbędne komponenty do stworzenia oraz uruchomienia aplikacji. Naszym zadaniem w tym miejscu będzie odpowiednie jej skonfigurowanie, aby obsługiwała więcej niż jedną stronę.\n",
        "\n",
        " Chcemy, aby możliwe było poruszanie się pomiędzy poniższymi stronami:\n",
        " - `TOP report` - strona domyślna,\n",
        " - `Comparision` - strona dostępna pod adresem: `comparision_reporting`,\n",
        " - `Day by day reporting` - strona dostępna pod adresem: `day_by_day_reporting`\n",
        "\n",
        "Wskazówki:\n",
        " - `Wizualizacja danych > Dzień 4 > Callback context`,\n",
        " - `Wizualizacja danych > Dzień 4 > Aplikacja multipage`.\n",
        " - Używając komponentu [html.Button](https://community.plotly.com/t/button-with-link/11809), możesz łatwo stworzyć bardziej wizualne linki do poszczególnych stron."
      ]
    },
    {
      "cell_type": "markdown",
      "metadata": {
        "id": "iIjCIjTcj_M_"
      },
      "source": [
        " Tutaj przygotuj layout aplikacji"
      ]
    },
    {
      "cell_type": "code",
      "execution_count": null,
      "metadata": {
        "id": "q5NFy19nj_M_"
      },
      "outputs": [],
      "source": []
    },
    {
      "cell_type": "markdown",
      "metadata": {
        "id": "5fjlJ1cTj_M_"
      },
      "source": [
        " Tutaj stwórz procedurę odpowiadającą za nawigację pomiędzy poszczególnymi stronami"
      ]
    },
    {
      "cell_type": "code",
      "execution_count": null,
      "metadata": {
        "id": "ij1te2toj_M_"
      },
      "outputs": [],
      "source": []
    },
    {
      "cell_type": "markdown",
      "metadata": {
        "id": "XwayEiCMj_M_"
      },
      "source": [
        " Tutaj uruchom aplikację"
      ]
    },
    {
      "cell_type": "code",
      "execution_count": null,
      "metadata": {
        "id": "TG6iAtqyj_NA"
      },
      "outputs": [],
      "source": []
    },
    {
      "cell_type": "markdown",
      "metadata": {
        "id": "nI8Oy1KBj_NA"
      },
      "source": [
        " # Podsumowanie\n",
        " W tym notatniku stworzyliśmy zgodnie z wymaganiami raport do dyspozycji osób decyzyjnych. Kod źródłowy może w tym momencie zostać przekazany dalej, do działu IT, który następnie wdroży rozwiązanie na serwer dostępny dla każdej zainteresowanej osoby. W praktyce oznacza to koniec naszej pracy nad tym zadaniem. Choć warto dodać, że często po udostępnieniu raportu pojawiają się dodatkowe wymagania oraz komentarze ze względu na informacje, które są tam zawarte.\n",
        "\n",
        " W kolejnym notatniku podsumujemy sobie cały warsztat."
      ]
    }
  ],
  "metadata": {
    "colab": {
      "provenance": []
    },
    "language_info": {
      "codemirror_mode": {
        "name": "ipython",
        "version": 3
      },
      "file_extension": ".py",
      "mimetype": "text/x-python",
      "name": "python",
      "nbconvert_exporter": "python",
      "pygments_lexer": "ipython3",
      "version": 3
    },
    "orig_nbformat": 4
  },
  "nbformat": 4,
  "nbformat_minor": 0
}

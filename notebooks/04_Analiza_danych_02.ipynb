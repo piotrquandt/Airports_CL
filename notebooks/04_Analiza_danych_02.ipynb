{
  "cells": [
    {
      "cell_type": "markdown",
      "metadata": {
        "id": "jAExAGbhgaHX"
      },
      "source": [
        " # Opis notatnika\n",
        " Ten notatnik jest kontunacją analizy danych o lotach i ich opóźnieniach. Od tego momentu zaczniemy łączyć posiadana przez nas zbiory danych, będąc w stanie dokonać dodatkowych analiz.\n",
        "\n",
        " Zanim jednak do tego przejdziemy, należy, podobnie jak w poprzednim kroku, skonfigurować odpowiednio notatnik."
      ]
    },
    {
      "cell_type": "markdown",
      "metadata": {
        "id": "doT2Uyf2gaHd"
      },
      "source": [
        " Tutaj zaimportuj wymagane biblioteki"
      ]
    },
    {
      "cell_type": "code",
      "execution_count": null,
      "metadata": {
        "id": "iRCQjALFgaHf"
      },
      "outputs": [],
      "source": []
    },
    {
      "cell_type": "markdown",
      "metadata": {
        "id": "CoY7okiigaHg"
      },
      "source": [
        " ## Połączenie z bazą danych\n",
        " Tutaj uzupełnij konfigurację połączenia"
      ]
    },
    {
      "cell_type": "code",
      "execution_count": null,
      "metadata": {
        "id": "wvlz6PgfgaHh"
      },
      "outputs": [],
      "source": []
    },
    {
      "cell_type": "markdown",
      "metadata": {
        "id": "RUZ_piKngaHi"
      },
      "source": [
        " Tutaj stwórz zmienną engine, która zostanie użyta do połączenia z bazą danych"
      ]
    },
    {
      "cell_type": "code",
      "execution_count": null,
      "metadata": {
        "id": "1OSLh07PgaHj"
      },
      "outputs": [],
      "source": []
    },
    {
      "cell_type": "markdown",
      "metadata": {
        "id": "ivD8wJOSgaHk"
      },
      "source": [
        " Tutaj uzupełnij implementację metody `read_sql_table`"
      ]
    },
    {
      "cell_type": "code",
      "execution_count": null,
      "metadata": {
        "id": "rSWdvp1qgaHl"
      },
      "outputs": [],
      "source": [
        "def read_sql_table(table_name):\n",
        "    pass"
      ]
    },
    {
      "cell_type": "markdown",
      "metadata": {
        "id": "s5DfssdmgaHm"
      },
      "source": [
        " Tutaj zaczytaj zapisaną wcześniej ramkę danych `flight_df` do zmniennej o takiej samej nazwie"
      ]
    },
    {
      "cell_type": "code",
      "execution_count": null,
      "metadata": {
        "id": "N-LGijOxgaHm"
      },
      "outputs": [],
      "source": []
    },
    {
      "cell_type": "markdown",
      "metadata": {},
      "source": [
        "Sprawdzenie poprawności danych w ramce `flight_df` "
      ]
    },
    {
      "cell_type": "code",
      "execution_count": null,
      "metadata": {},
      "outputs": [],
      "source": [
        "flight_df_expected_rows_amount = 6922924\n",
        "flight_df_rows_amount = flight_df.shape[0]\n",
        "\n",
        "assert flight_df_rows_amount == flight_df_expected_rows_amount, f'Oczekiwano {flight_df_expected_rows_amount} wierszy, otrzymano {flight_df_rows_amount}'"
      ]
    },
    {
      "cell_type": "markdown",
      "metadata": {
        "id": "RQ87C_Y3gaHn"
      },
      "source": [
        " # Wzbogacenie o `aircraft`\n",
        " Używając procedury `read_sql_table` wczytaj dane z tabeli `aircraft` i zapisz jako `aircraft_df`. Następnie:\n",
        " 1. Usuń z ramki kolumny `number_of_seats` oraz `id`. Na tej podstawie usuń nadmiarowe wiersze (duplikaty).\n",
        " 1. Następnie jeszcze raz sprawdź, czy dla kolumny `tail_num` nie występują duplikaty. Innymi słowy, należy sprawdzić, czy dla jednego `tail_num` występuje więcej niż jeden rok produkcji.\n",
        " 1. Jeśli tak to:\n",
        "     - do ramki `aircraft_df_duplicated` zapisz powielone zgodnie ze sprawdzeniem wiersze,\n",
        "     - zgodnie z powyższym zmodyfikuj ramkę tak, aby w przypadku duplikatu za datę wytworzenia samolotu uznana została data najnowsza tj. jeśli dla `tail_num` są dostępne daty produkcji 1998 oraz 2001, uznajemy, że `tail_num` został wyprodukowany w `2001`.\n",
        "\n",
        " Wskazówki:\n",
        " - Praca z duplikatami na LMS: `Python - analiza danych -> Dzień 5 - Pandas -> Duplikaty`\n",
        " - Dokumentacja metody `duplicated`: [klik](https://pandas.pydata.org/docs/reference/api/pandas.DataFrame.duplicated.html)\n",
        " - Dokumentacja metody `drop_duplicates`: [klik](https://pandas.pydata.org/docs/reference/api/pandas.DataFrame.drop_duplicates.html)"
      ]
    },
    {
      "cell_type": "markdown",
      "metadata": {
        "id": "CjRo5lWZgaHo"
      },
      "source": [
        " Tutaj wczytaj tabelę `aircraft` używając `read_sql_table`"
      ]
    },
    {
      "cell_type": "code",
      "execution_count": null,
      "metadata": {
        "id": "HonLC9KegaHo"
      },
      "outputs": [],
      "source": []
    },
    {
      "cell_type": "markdown",
      "metadata": {
        "id": "yOlndV2IgaHp"
      },
      "source": [
        " Tutaj usuń kolumnę `number_of_seats` oraz duplikaty z ramki `aircraft_df`"
      ]
    },
    {
      "cell_type": "code",
      "execution_count": null,
      "metadata": {
        "id": "UEGn63ligaHp"
      },
      "outputs": [],
      "source": []
    },
    {
      "cell_type": "markdown",
      "metadata": {
        "id": "84hMytzggaHp"
      },
      "source": [
        " ### Sprawdzenie\n",
        " Uruchom kod poniżej, aby sprawdzić, czy ta część została poprawnie wykonana"
      ]
    },
    {
      "cell_type": "code",
      "execution_count": null,
      "metadata": {
        "id": "92fbP8GWgaHq"
      },
      "outputs": [],
      "source": [
        "aircraft_df_expected_rows = 7364\n",
        "aircraft_df_expected_columns = set(['tail_num', 'manufacture_year'])\n",
        "\n",
        "aircraft_df_rows = aircraft_df.shape[0]\n",
        "\n",
        "diff = aircraft_df_expected_columns.symmetric_difference(set(aircraft_df.columns))\n",
        "assert aircraft_df_rows == aircraft_df_expected_rows, f'Spodziewano się {aircraft_df_expected_rows} wierszy , otrzymano {aircraft_df_rows} wierszy'\n",
        "\n",
        "assert diff == set([]), f'Spodziewano się {aircraft_df_expected_columns} kolumn, otrzymano: {aircraft_df_expected_columns} kolumn. Różnica: \\n\\t{diff}'"
      ]
    },
    {
      "cell_type": "markdown",
      "metadata": {
        "id": "7u8fZKwsgaHq"
      },
      "source": [
        " Tutaj sprawdź, czy w ramkce `aircraft_df` występują duplikaty wewnątrz kolumny `tail_num`. Czyli czy dla danego `tail_num` występuje więcej niż jeden rok produkcji."
      ]
    },
    {
      "cell_type": "code",
      "execution_count": null,
      "metadata": {
        "id": "NXRY9FcmgaHq"
      },
      "outputs": [],
      "source": []
    },
    {
      "cell_type": "markdown",
      "metadata": {
        "id": "LpcUztUegaHr"
      },
      "source": [
        " ### Sprawdzenie\n",
        " Uruchom kod poniżej, aby sprawdzić, czy ta część została poprawnie wykonana"
      ]
    },
    {
      "cell_type": "code",
      "execution_count": null,
      "metadata": {
        "id": "NllXIVYsgaHr"
      },
      "outputs": [],
      "source": [
        "aircraft_df_expected_rows = 3\n",
        "aircraft_df_duplicated_rows = aircraft_df_duplicated.shape[0]\n",
        "assert aircraft_df_duplicated_rows == aircraft_df_expected_rows, f\"Oczekiwano {aircraft_df_expected_rows} wierszy, otrzymano {aircraft_df_duplicated_rows}\""
      ]
    },
    {
      "cell_type": "markdown",
      "metadata": {
        "id": "M_hkZH-agaHs"
      },
      "source": [
        " ## Modyfikacja `aircraft_df`\n",
        " Tutaj dokonaj aktualizacji tabeli `aircraft_df` - jeśli jest taka potrzeba. Zrób to tak aby, dla powielonych `tail_num`, `manufacture_year` został ustawiony jako najwyższy"
      ]
    },
    {
      "cell_type": "code",
      "execution_count": null,
      "metadata": {
        "id": "vH8EshdJgaHs"
      },
      "outputs": [],
      "source": []
    },
    {
      "cell_type": "markdown",
      "metadata": {
        "id": "yv8pdTsFgaHs"
      },
      "source": [
        " ### Sprawdzenie\n",
        " Uruchom kod poniżej, aby sprawdzić, czy ta część została poprawnie wykonana"
      ]
    },
    {
      "cell_type": "code",
      "execution_count": null,
      "metadata": {
        "id": "EkVd019QgaHs"
      },
      "outputs": [],
      "source": [
        "test_tail = 'N783CA'\n",
        "test_value = aircraft_df.loc[aircraft_df['tail_num']\n",
        "                             == test_tail]['manufacture_year']\n",
        "test_value = int(test_value)\n",
        "\n",
        "expected_value = 2000\n",
        "assert test_value == expected_value, f\"Dla 'tail_num' == '{test_tail}' oczekiwano {expected_value} otrzymano {test_value}\""
      ]
    },
    {
      "cell_type": "markdown",
      "metadata": {
        "id": "T5RnP40AgaHt"
      },
      "source": [
        " ## Połączenie `aircraft_df` oraz `flight_df`\n",
        " Połącz ramkę `aircraft_df` oraz `flight_df` zgodnie z kluczem oraz odpowiedz na następujące pytania:\n",
        " 1. Czy po połączeniu pojawiły się duplikaty? Dokonaj odpowiedniego sprawdzenia.\n",
        " 1. Wyznacz zależność roku produkcji do częstotliwości opóźnień. Wynik zapisz do tabeli `delays_by_manufacture_year_df`.\n",
        " 1. Przedstaw wyniki w tabeli za pomocą wykresu punktowego.\n",
        " 1. Dokonaj modyfikacji w taki sposób, aby wyświetlone na wykresie zostały tylko takie roczniki samolotów, które wykonały łącznie więcej niż 10000 `(>)` lotów.\n",
        "\n",
        "> **Wskazówka:**\n",
        "> Aby nie utracić potencjalnie całej dotychczasowej pracy, zapisz wynik do tymczasowej zmiennej np. `tmp_flight_df`. Po sprawdzeniu możesz użyć metody `copy`: [link](https://pandas.pydata.org/docs/reference/api/pandas.DataFrame.copy.html), aby nadpisać `flight_df` używając `tmp_flight_df`."
      ]
    },
    {
      "cell_type": "markdown",
      "metadata": {
        "id": "mS5xRIjkgaHt"
      },
      "source": [
        " Tutaj dokonaj złączenia `flight_df` z `aircraft_df`, wynik zapisz do `tmp_flight_df`"
      ]
    },
    {
      "cell_type": "code",
      "execution_count": null,
      "metadata": {
        "id": "5M7ZmGpugaHt"
      },
      "outputs": [],
      "source": []
    },
    {
      "cell_type": "markdown",
      "metadata": {
        "id": "qn4n68zNgaHt"
      },
      "source": [
        " Tutaj dokonaj sprawdzenia, czy nie pojawiły się duplikaty"
      ]
    },
    {
      "cell_type": "code",
      "execution_count": null,
      "metadata": {
        "id": "jz1FiBqXgaHu"
      },
      "outputs": [],
      "source": []
    },
    {
      "cell_type": "markdown",
      "metadata": {
        "id": "HrpfJCXTgaHu"
      },
      "source": [
        " Tutaj nadpisz `flight_df` używając `tmp_flight_df`"
      ]
    },
    {
      "cell_type": "code",
      "execution_count": null,
      "metadata": {
        "id": "ljwe8v4ngaHu"
      },
      "outputs": [],
      "source": []
    },
    {
      "cell_type": "markdown",
      "metadata": {
        "id": "YRf_WVurgaHu"
      },
      "source": [
        " ## Opóźnienia vs. rok produkcji samolotu cz. 1\n",
        " Tutaj wyznacz zależność roku produkcji do częstotliwości opóźnień"
      ]
    },
    {
      "cell_type": "code",
      "execution_count": null,
      "metadata": {
        "id": "cP8C-rxigaHu"
      },
      "outputs": [],
      "source": []
    },
    {
      "cell_type": "markdown",
      "metadata": {
        "id": "WyCxttG7gaHu"
      },
      "source": [
        " Tutaj wyrysuj ramkę `delays_by_manufacture_year_df`"
      ]
    },
    {
      "cell_type": "code",
      "execution_count": null,
      "metadata": {
        "id": "GP8jatMNgaHv"
      },
      "outputs": [],
      "source": []
    },
    {
      "cell_type": "markdown",
      "metadata": {
        "id": "fNYLViaKgaHv"
      },
      "source": [
        " Tutaj zmodyfikuj wykres tak, aby prezentował tylko te roczniki, które odbyły więcej niż 10 000 lotów"
      ]
    },
    {
      "cell_type": "code",
      "execution_count": null,
      "metadata": {
        "id": "SlyMqFHdgaHv"
      },
      "outputs": [],
      "source": []
    },
    {
      "cell_type": "markdown",
      "metadata": {
        "id": "mrFXx39hgaHv"
      },
      "source": [
        " ## Opóźnienia vs. rok produkcji samolotu cz. 2\n",
        " Dokonaj agregacji kolumny `manufacture_year` do kolumny `manufacture_year_agg` zgodnie z poniższym:\n",
        " 1. Grupując dane co 3 lata -> Czy po grupowaniu można zauważyć zależność? Wyniki zapisz do ramki `flight_delays_by_manufacture_year_agg_df`.\n",
        " 1. Wyznacz top 5 roczników samolotu, które wykonały najwięcej lotów. Wyniki zapisz do ramki `top_manufactured_df`, do obliczeń wykorzystaj `delays_by_manufacture_year_df`."
      ]
    },
    {
      "cell_type": "markdown",
      "metadata": {
        "id": "K5BRdnifgaHv"
      },
      "source": [
        " Tutaj dodaj kolumnę `manufacture_year_agg` do ramki `flight_df`"
      ]
    },
    {
      "cell_type": "code",
      "execution_count": null,
      "metadata": {
        "id": "ple31F7kgaHv"
      },
      "outputs": [],
      "source": []
    },
    {
      "cell_type": "markdown",
      "metadata": {
        "id": "Rc6lyDoxgaHw"
      },
      "source": [
        " Tutaj stwórz zmienną `flight_delays_by_manufacture_year_agg_df`"
      ]
    },
    {
      "cell_type": "code",
      "execution_count": null,
      "metadata": {
        "id": "8bkI8NuigaHw"
      },
      "outputs": [],
      "source": []
    },
    {
      "cell_type": "markdown",
      "metadata": {
        "id": "Uo90Dg_6gaHw"
      },
      "source": [
        " Tutaj stwórz wykres w oparciu o dane zawarte w `flight_delays_by_manufacture_year_agg_df`"
      ]
    },
    {
      "cell_type": "code",
      "execution_count": null,
      "metadata": {
        "id": "moVOM8RdgaHw"
      },
      "outputs": [],
      "source": []
    },
    {
      "cell_type": "markdown",
      "metadata": {
        "id": "ctSHyjV7gaHw"
      },
      "source": [
        " Tutaj wyznacz TOP 5 roczników samolotów"
      ]
    },
    {
      "cell_type": "code",
      "execution_count": null,
      "metadata": {
        "id": "2L73EbOSgaHw"
      },
      "outputs": [],
      "source": []
    },
    {
      "cell_type": "markdown",
      "metadata": {
        "id": "ZkhiDTTkgaHw"
      },
      "source": [
        " # Podsumowanie\n",
        " W tym notatniku do naszej wyjściowej ramki danych `flight_df` dołączyliśmy tabelę `aircraft_df` i za jej pomocą dodaliśmy kolejny wymiar do naszej analizy. Zauważmy, ile dodatkowych wniosków mogliśmy wyciągnąć dzięki jej dodaniu.\n",
        "\n",
        " Zanim przejdziemy dalej, należy zapisać bieżącą postać ramki (najlepiej lokalnie), która zostanie użyta w kolejnym notatniku.\n",
        "\n",
        " > **Wskazówka:**  \n",
        " > Aby uniknąć potencjalnych problemów, najlepiej zapisać ramkę z nazwą nawiązującą do tego notatnika, np. `flight_df_01`."
      ]
    },
    {
      "cell_type": "markdown",
      "metadata": {
        "id": "OaqRdm7DgaHw"
      },
      "source": [
        " Tutaj zapisz ramkę w najdogodniejszy sposób."
      ]
    },
    {
      "cell_type": "code",
      "execution_count": null,
      "metadata": {
        "id": "1AFhdfaugaHx"
      },
      "outputs": [],
      "source": []
    }
  ],
  "metadata": {
    "colab": {
      "provenance": []
    },
    "kernelspec": {
      "display_name": "Python 3.10.5 ('venv': venv)",
      "language": "python",
      "name": "python3"
    },
    "language_info": {
      "codemirror_mode": {
        "name": "ipython",
        "version": 3
      },
      "file_extension": ".py",
      "mimetype": "text/x-python",
      "name": "python",
      "nbconvert_exporter": "python",
      "pygments_lexer": "ipython3",
      "version": "3.10.5"
    },
    "orig_nbformat": 4,
    "vscode": {
      "interpreter": {
        "hash": "136089914e87e2d4f80cd8636e7ceb6fbad42888d13047c5eed4d3dfe8a58423"
      }
    }
  },
  "nbformat": 4,
  "nbformat_minor": 0
}

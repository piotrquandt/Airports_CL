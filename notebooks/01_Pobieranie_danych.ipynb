{
  "cells": [
    {
      "cell_type": "markdown",
      "metadata": {
        "id": "t0DZ7QM0cSq7"
      },
      "source": [
        " # Opis notatnika\n",
        "\n",
        " Ten notatnik inicjuje naszą pracę nad warsztatem końcowym. Naszym zadaniem tutaj jest pobranie udostępnionych nam danych do obszaru roboczego, które w następnym kroku wgramy na naszą bazę danych. Ich obróbka oraz analiza zostanie przeprowadzona w specjalnie do tego celu przygotowanych kolejnych notatnikach.\n",
        "\n",
        " Na potrzeby tego warsztatu został stworzony dedykowany serwis API, który dostępny jest pod adresem: https://api-datalab.coderslab.com/api/. Dodatkowo udostępniona została dokumentacja, z którą można zapoznać się tutaj: [klik](https://api-datalab.coderslab.com/docs/).\n",
        "\n",
        " > Dokumentacja jest czysto techniczna i ma na celu prezentację dostępnych endpointów wraz ze zwracanym typem. W celu przetestowania należy kliknąć przysisk `Authorize`, podać token (dostępny poniżej), a następnie `Try it out!` oraz uzupełnić wymagane pola (parametry requesta).\n",
        "\n",
        " Zgodnie z dokumentacją stwierdzamy, że udostępnione zostały nam 4 endpointy:\n",
        " - `airport` - dane o lotnisku,\n",
        " - `weather` - informacje o zarejestrowaniej pogodzie na lotnisku danego dnia,\n",
        " - `aircraft` - dane o samolotach\n",
        " - `flights` - dane o wylotach z danego lotniska per dzień.\n",
        "\n",
        " Wszystkie te źródła musimy pobrać, aby być w stanie wykonać całość warsztatu. W celu pobrania informacji, gdzie wymagany jest paramatr `airportId`, posłużymy się listą z pliku `airports.csv`.\n",
        "\n",
        " Przy wykonywaniu tego zadania możesz posłużyć się tym tokenem: `WpzDMZeeCq6tbPdsTHUX8W9mecuUVwXAnmcorefr`.\n",
        "\n",
        " ### Uwagi\n",
        " - Ze względów ćwiczeniowych, konstrukcja poszczególnych endpointów jest różna – w trakcie pracy dokładnie przyjrzyj się, w jaki sposób należy wykonać zapytanie, aby otrzymać odpowiedź.\n",
        " - Pamiętaj o dodaniu `sleep` pomiędzy poszczególnymi wywołaniami endpoint.\n",
        " - Limit wywołań API to 500/min, zadbaj o nieprzekroczenie tego limitu – w przeciwnym wypadku będzie zwracany błąd 429."
      ]
    },
    {
      "cell_type": "markdown",
      "metadata": {
        "id": "KfoENWKJcSq9"
      },
      "source": [
        " # Konfiguracja notatnika"
      ]
    },
    {
      "cell_type": "markdown",
      "metadata": {
        "id": "W9F120yecSq-"
      },
      "source": [
        " Tutaj zaimportuj wymagane biblioteki"
      ]
    },
    {
      "cell_type": "code",
      "execution_count": null,
      "metadata": {
        "id": "WoyekjhTcSq_"
      },
      "outputs": [],
      "source": []
    },
    {
      "cell_type": "markdown",
      "metadata": {
        "id": "xT_qqTgTcSq_"
      },
      "source": [
        " Tutaj zdefiniuj parametry połączenia do API"
      ]
    },
    {
      "cell_type": "code",
      "execution_count": null,
      "metadata": {
        "id": "ZnX5NHdIcSrA"
      },
      "outputs": [],
      "source": []
    },
    {
      "cell_type": "markdown",
      "metadata": {
        "id": "6qQIv0FYcSrA"
      },
      "source": [
        "Tutaj wczytaj plik `airports.csv` i dostosuj do dalszych kroków w celu pobierania z kolejnych endpointów. Lista lotnisk jest dostępna w kolumnie `origin_airport_id`."
      ]
    },
    {
      "cell_type": "code",
      "execution_count": null,
      "metadata": {
        "id": "cch5SNo7cSrB"
      },
      "outputs": [],
      "source": []
    },
    {
      "cell_type": "markdown",
      "metadata": {
        "id": "nl2wpRlFcSrB"
      },
      "source": [
        " # Pobieranie `Airport`\n",
        " Zapoznaj się z dokumentacją endpointu `airport`, a następnie pobierz dane dot. poszczególnych lotnisk. Wyniki tego kroku zapisz do ramki `airport_df`, a następnie zapisz do pliku `csv`.\n",
        "\n",
        " ### Wskazówki\n",
        " - Nie wszystkie lotniska dostępne w pliku `airports.csv`, są dostępne w endpoint. Zadbaj o odpowiednie obsłużenie takiej sytuacji,\n",
        " - Do skonwertowania wyników przydatna może okazać się metoda `Pandas` - [from_records](https://pandas.pydata.org/docs/reference/api/pandas.DataFrame.from_records.html),\n",
        " - Artykuł LMS: `Python - analiza danych > Dzień 4 - API > Uwierzytelnianie`\n",
        " - Artykuł LMS: `Python - analiza danych > Przygotowanie do zjazdu 2`"
      ]
    },
    {
      "cell_type": "markdown",
      "metadata": {
        "id": "0BFT2Q6LcSrC"
      },
      "source": [
        " Tutaj pobierz dane z endpoint'u `airport`"
      ]
    },
    {
      "cell_type": "code",
      "execution_count": null,
      "metadata": {
        "id": "LU15PHoucsWC"
      },
      "outputs": [],
      "source": []
    },
    {
      "cell_type": "markdown",
      "metadata": {
        "id": "PBYU4uZIcSrC"
      },
      "source": [
        " ## Sprawdzenie\n",
        " Uruchom kod poniżej, aby sprawdzić, czy ta część została poprawnie wykonana."
      ]
    },
    {
      "cell_type": "code",
      "execution_count": 1,
      "metadata": {
        "colab": {
          "base_uri": "https://localhost:8080/",
          "height": 183
        },
        "id": "v_uYoqUxcSrD",
        "outputId": "99974b89-87c9-4ced-cb20-3830cda40085"
      },
      "outputs": [
        {
          "ename": "NameError",
          "evalue": "ignored",
          "output_type": "error",
          "traceback": [
            "\u001b[0;31m---------------------------------------------------------------------------\u001b[0m",
            "\u001b[0;31mNameError\u001b[0m                                 Traceback (most recent call last)",
            "\u001b[0;32m<ipython-input-1-a886aa15e242>\u001b[0m in \u001b[0;36m<module>\u001b[0;34m\u001b[0m\n\u001b[1;32m      1\u001b[0m \u001b[0mairport_df_expected_shape\u001b[0m \u001b[0;34m=\u001b[0m \u001b[0;34m(\u001b[0m\u001b[0;36m97\u001b[0m\u001b[0;34m,\u001b[0m \u001b[0;36m4\u001b[0m\u001b[0;34m)\u001b[0m\u001b[0;34m\u001b[0m\u001b[0;34m\u001b[0m\u001b[0m\n\u001b[0;32m----> 2\u001b[0;31m \u001b[0;32massert\u001b[0m \u001b[0mairport_df_expected_shape\u001b[0m \u001b[0;34m==\u001b[0m \u001b[0mairport_df\u001b[0m\u001b[0;34m.\u001b[0m\u001b[0mshape\u001b[0m\u001b[0;34m\u001b[0m\u001b[0;34m\u001b[0m\u001b[0m\n\u001b[0m",
            "\u001b[0;31mNameError\u001b[0m: name 'airport_df' is not defined"
          ]
        }
      ],
      "source": [
        "airport_df_expected_shape = (97, 4)\n",
        "assert airport_df_expected_shape == airport_df.shape"
      ]
    },
    {
      "cell_type": "markdown",
      "metadata": {
        "id": "VM2aiFNgcSrD"
      },
      "source": [
        " Tutaj zapisz ramkę `airport_df` do pliku `airport_list.csv`."
      ]
    },
    {
      "cell_type": "code",
      "execution_count": null,
      "metadata": {
        "id": "kX0YVty_cSrE"
      },
      "outputs": [],
      "source": []
    },
    {
      "cell_type": "markdown",
      "metadata": {
        "id": "WFFoDzkMcSrE"
      },
      "source": [
        " # Pobieranie `Weather`\n",
        " Zapoznaj się z dokumentacją endpotu `Weather`, następnie pobierz dane dotyczące zarejestrowanej pogody na poszczególnych lotniskach. Wyniki zapisz do ramki `weather_df`, a później do pliku `airport_weather.csv`.\n",
        "\n",
        " Wskazówki:\n",
        " - Ze względu na wolumen danych, które tutaj się pobiorą, odradzamy zapisywanie danych bezpośrednio do ramki. Rekomendujemy podejście podobne do tego z warsztatu na kursie `Python - analiza danych` - `Dzień 10 - Warsztat > Warsztat > Scrapowanie danych`, czyli stworzenie listy, a następnie przekonwertowanie jej w postać ramki.\n",
        " - Data początkowa danych to `2019-01-01`, zaś data końcowa to `2020-03-31`, czyli 15 miesięcy,\n",
        " - Ze względu na czas, jaki ten krok będzie się wykonywał, warto dodać w pętli instrukcję (lub kilka) `print`, aby monitorować przebieg wykonywania tego kroku.\n",
        " - Przy dodawaniu miesięcy do daty może przydać się metoda [relativedelta](https://www.geeksforgeeks.org/python-get-month-from-year-and-weekday/)."
      ]
    },
    {
      "cell_type": "markdown",
      "metadata": {
        "id": "ESOue3vucSrF"
      },
      "source": [
        " ## Sprawdzenie\n",
        " Uruchom kod poniżej, aby sprawdzić, czy ta część została poprawnie wykonana."
      ]
    },
    {
      "cell_type": "code",
      "execution_count": null,
      "metadata": {
        "id": "RyAhmF0tcSrF"
      },
      "outputs": [],
      "source": [
        "airport_weather_df_expected_shape = (46226, 33)\n",
        "assert airport_weather_df_expected_shape == airport_weather_df.shape"
      ]
    },
    {
      "cell_type": "markdown",
      "metadata": {
        "id": "s6AC9708cSrF"
      },
      "source": [
        " ## Zapis do pliku\n",
        " Tutaj zapisz ramkę `weather_df` do pliku `airport_weather.csv` w katalogu `data/raw`."
      ]
    },
    {
      "cell_type": "code",
      "execution_count": null,
      "metadata": {
        "id": "-XdjTZeucSrG"
      },
      "outputs": [],
      "source": []
    },
    {
      "cell_type": "markdown",
      "metadata": {
        "id": "TjzQYZp7cSrG"
      },
      "source": [
        " # Pobranie `Aircraft`\n",
        " Zapoznaj się z dokumentacją endpointu `aircraft` a następnie pobierz dane produkcyjne samolotów. Wyniki zapisz do ramki `aircraft_df`, a następnie zapisz do pliku `aircraft.csv`.\n"
      ]
    },
    {
      "cell_type": "code",
      "execution_count": null,
      "metadata": {
        "id": "bxqkmGNOdjnL"
      },
      "outputs": [],
      "source": []
    },
    {
      "cell_type": "markdown",
      "metadata": {
        "id": "d8i46jiccSrG"
      },
      "source": [
        " ## Sprawdzenie\n",
        " Uruchom kod poniżej, aby sprawdzić, czy ta część została poprawnie wykonana."
      ]
    },
    {
      "cell_type": "code",
      "execution_count": null,
      "metadata": {
        "id": "pHH5brQscSrG"
      },
      "outputs": [],
      "source": [
        "aircraft_df_expected_shape = (7383, 3)\n",
        "assert aircraft_df_expected_shape == aircraft_df.shape"
      ]
    },
    {
      "cell_type": "markdown",
      "metadata": {
        "id": "mWgrH0AWcSrG"
      },
      "source": [
        " ## Zapis do pliku\n",
        " Tutaj zapisz ramkę `aircraft_df` do pliku `aircraft.csv` w katalogu `data/raw`."
      ]
    },
    {
      "cell_type": "markdown",
      "metadata": {},
      "source": []
    },
    {
      "cell_type": "code",
      "execution_count": null,
      "metadata": {
        "id": "mKmE38mycSrH"
      },
      "outputs": [],
      "source": []
    },
    {
      "cell_type": "markdown",
      "metadata": {
        "id": "MXI-QwVbcSrH"
      },
      "source": [
        " # Pobranie `Flight`\n",
        " Zapoznaj się z dokumentacją endpointu `flights`, następnie pobierz dane dotyczące ruchu lotniczego. Wyniki zapisz do ramki `flight_df`, a później do pliku `flight.csv`.\n",
        "\n",
        " Wskazówki:\n",
        " - Zwróć szczególną uwagę na konstrukcję endpointa,\n",
        " - Ze względu na wolumen danych, które tutaj się pobiorą, odradzamy zapisywanie danych bezpośrednio do ramki. Rekomendujemy podejście podobne do tego, z warsztatu na kursie `Python - analiza danych` - `Dzień 10 - Warsztat > Warsztat > Scrapowanie danych`,\n",
        " - Data początkowa danych to `2019-01-01`, zaś końcowa to `2020-03-31`, czyli 456 dni,\n",
        " - Ze względu na czas, jaki ten krok będzie się wykonywał, warto dodać w pętli instrukcję (lub kilka) `print`, aby monitorować przebieg wykonywania tego kroku."
      ]
    },
    {
      "cell_type": "code",
      "execution_count": null,
      "metadata": {
        "id": "X7hWOqzCcSrH"
      },
      "outputs": [],
      "source": []
    },
    {
      "cell_type": "markdown",
      "metadata": {
        "id": "9UJgH0CGcSrH"
      },
      "source": [
        " ## Sprawdzenie\n",
        " Uruchom kod poniżej, aby sprawdzić, czy ta część została poprawnie wykonana."
      ]
    },
    {
      "cell_type": "code",
      "execution_count": null,
      "metadata": {
        "id": "Igrh65KgcSrH"
      },
      "outputs": [],
      "source": [
        "flight_df_expected_shape = (9251880, 27)\n",
        "assert flight_df_expected_shape == flight_df.shape"
      ]
    },
    {
      "cell_type": "markdown",
      "metadata": {
        "id": "3nfBsnwNcSrI"
      },
      "source": [
        " ## Zapis do pliku\n",
        " Tutaj zapisz ramkę `flight_df` do pliku `flight.csv` w katalogu `data/raw`."
      ]
    },
    {
      "cell_type": "code",
      "execution_count": null,
      "metadata": {
        "id": "737lnCqacSrI"
      },
      "outputs": [],
      "source": []
    },
    {
      "cell_type": "markdown",
      "metadata": {
        "id": "AbxEeR32cSrI"
      },
      "source": [
        " # Podsumowanie\n",
        " W tym notatniku wykonaliśmy podstawowy krok w analizie danych - pozyskaliśmy je. Są gotowe do dalszej pracy, czyli możemy załadować je na bazę danych, a następnie zapoznać się z tym, jakie informacje ze sobą niosą. Kolejne notatniki będą służyły właśnie tym celom."
      ]
    },
    {
      "cell_type": "code",
      "execution_count": null,
      "metadata": {
        "id": "XFsso0kKcSrI"
      },
      "outputs": [],
      "source": [
        "msg = \"Wszystko wygląda OK :) Możesz przejść do kolejnego kroku.\"\n",
        "print(msg)"
      ]
    }
  ],
  "metadata": {
    "colab": {
      "provenance": []
    },
    "kernelspec": {
      "display_name": "Python 3.10.5 64-bit (system)",
      "language": "python",
      "name": "python3"
    },
    "language_info": {
      "codemirror_mode": {
        "name": "ipython",
        "version": 3
      },
      "file_extension": ".py",
      "mimetype": "text/x-python",
      "name": "python",
      "nbconvert_exporter": "python",
      "pygments_lexer": "ipython3",
      "version": "3.10.5"
    },
    "orig_nbformat": 4,
    "vscode": {
      "interpreter": {
        "hash": "97b21747a2d6163ce9759ba63e94e55ef90a08103eb2c9ebee1827489f5a0c25"
      }
    }
  },
  "nbformat": 4,
  "nbformat_minor": 0
}

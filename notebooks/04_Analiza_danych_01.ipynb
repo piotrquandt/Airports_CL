{
  "cells": [
    {
      "cell_type": "markdown",
      "metadata": {
        "id": "58ZUD24sfPTL"
      },
      "source": [
        " # Opis notatnika\n",
        " Po pobraniu danych z zewnętrznego serwisu, a następnie załadowaniu ich do naszej wewnętrznej (prawie firmowej) bazy, czas na ich analizę oraz eksplorację.\n",
        " Ponieważ zakładamy, że pracujemy z tym zbiorem pierwszy raz, warto przejrzeć go pod dość szerokim kątem, aby nabrać świadomości, jakie informacje są tam ukryte i co stanowi potencjalną wartość biznesową.\n",
        "\n",
        " Eksplorację zaczniemy od centralnej bazy danych `flight`, w której nastawimy się w szczególności na zmienną `dep_delay` (za dokumentacją u [źródła](https://www.kaggle.com/datasets/threnjen/2019-airline-delays-and-cancellations?resource=download&select=raw_data_documentation.txt)), która informuje o wysokości opóźnienia odlotu samolotu.\n",
        " Wykonując kolejne kroki, najpierw odpowiednio przygotujemy nasz wyjściowy zbiór do analizy, by później zacząć go wzbogacać o dodatkowe informacje, np. pogodowe.\n",
        "\n",
        " Dzięki wyciągnięciu wniosków z danych, które otrzymaliśmy, będziemy mogli zaproponować system raportowania wspomagający biznes, czy zdefiniować dalsze kroki, które usprawnią działania lotnisk.\n",
        "\n",
        " Powodzenia!\n",
        "\n",
        " > Ze względu na objętość zadań w tym obszarze, ten krok podzielony został na kilka mniejszych części."
      ]
    },
    {
      "cell_type": "markdown",
      "metadata": {
        "id": "ClzbyY6pfPTP"
      },
      "source": [
        " # Konfiguracja\n",
        " Uzupełnij implementajcę procedury `load_table_from_db`, która będzie odpowiedzialna za\n",
        " pobieranie danych z bazy danych oraz zwrócenie ramki do dalszej pracy.\n",
        "\n",
        " W trakcie pracy nad jej implementacją możesz wspomóc się następującymi materiałami:\n",
        " - `read_sql` - dokumentacja techniczna metody: [klik](https://pandas.pydata.org/docs/reference/api/pandas.read_sql.html),\n",
        " - `SQL - analiza danych -> Zjazd 1 - materiał dodatkowe -> Export danych -> Python`\n",
        "\n",
        " > **Uwaga:**  \n",
        " > Metoda powinna tylko pobierać dane z bazy, nie implementuj tutaj dodatkowej logiki."
      ]
    },
    {
      "cell_type": "markdown",
      "metadata": {
        "id": "OnIo3Pt6fPTQ"
      },
      "source": [
        " Tutaj zaimportuj wymagane biblioteki"
      ]
    },
    {
      "cell_type": "code",
      "execution_count": null,
      "metadata": {
        "id": "zNNgsvd2fPTR"
      },
      "outputs": [],
      "source": []
    },
    {
      "cell_type": "markdown",
      "metadata": {
        "id": "8cAhYq1vfPTS"
      },
      "source": [
        " ## Połączenie z bazą danych\n",
        " Tutaj uzupełnij konfigurację połączenia"
      ]
    },
    {
      "cell_type": "code",
      "execution_count": null,
      "metadata": {
        "id": "Qcwz7iMUfPTT"
      },
      "outputs": [],
      "source": []
    },
    {
      "cell_type": "markdown",
      "metadata": {
        "id": "Vy4dQx2zfPTT"
      },
      "source": [
        " Tutaj stwórz zmienną engine, która zostanie użyta do połączenia z bazą danych"
      ]
    },
    {
      "cell_type": "code",
      "execution_count": null,
      "metadata": {
        "id": "UwJuaCL-fPTU"
      },
      "outputs": [],
      "source": []
    },
    {
      "cell_type": "markdown",
      "metadata": {
        "id": "ifhPLFqGfPTU"
      },
      "source": [
        " Tutaj uzupełnij implementację metody `read_sql_table`"
      ]
    },
    {
      "cell_type": "code",
      "execution_count": null,
      "metadata": {
        "id": "3T-3UXDqfPTV"
      },
      "outputs": [],
      "source": [
        "def read_sql_table(table_name):\n",
        "    pass"
      ]
    },
    {
      "cell_type": "markdown",
      "metadata": {
        "id": "vW7b0DvDfPTW"
      },
      "source": [
        " # Wczytanie danych do obszaru roboczego\n",
        " Używając metody `read_sql_table`, wczytaj do obszaru roboczego zawartośc tabeli `flight` i zapisz w ramce o nazwie `flight_df_raw`.\n",
        "\n",
        " Następnie wykonaj poniższe polecenia:\n",
        " 1. Usuń z ramki loty, które:\n",
        "     * odbyły się w 2020 roku,\n",
        "     * zostały anulowane.\n",
        " 1. Zmień nazwę kolumny `dep_delay_new` na `dep_delay`.\n",
        " 1. Tak powstałą tabelę zapisz do ramki, która nazywać się będzie `flight_df` - z tej ramki będziemy korzystali do końca analizy.\n",
        " 1. Wyznacz, ile kolumn ma tabela `flight_df`, wynik zapisz do zmiennej `flight_df_columns_amount`.\n",
        " 1. Wyznacz, ile wierszy ma tabela `flight_df`, wynik zapisz do zmiennej `flight_df_rows_amount`."
      ]
    },
    {
      "cell_type": "markdown",
      "metadata": {
        "id": "_rL3QErYfPTX"
      },
      "source": [
        " Tutaj wczytaj ramkę do obszaru roboczego"
      ]
    },
    {
      "cell_type": "code",
      "execution_count": null,
      "metadata": {
        "id": "dkdSGVzofPTX"
      },
      "outputs": [],
      "source": []
    },
    {
      "cell_type": "markdown",
      "metadata": {
        "id": "DNyMijbKfPTX"
      },
      "source": [
        " Tutaj oczyść ramkę usuwając loty z roku 2020 oraz te anulowane"
      ]
    },
    {
      "cell_type": "code",
      "execution_count": null,
      "metadata": {
        "id": "g_R4PHPMfPTY"
      },
      "outputs": [],
      "source": []
    },
    {
      "cell_type": "markdown",
      "metadata": {
        "id": "CUV4fzqhfPTY"
      },
      "source": [
        " Tutaj zmień nazwę kolumny `dep_delay_new` na `dep_delay`"
      ]
    },
    {
      "cell_type": "code",
      "execution_count": null,
      "metadata": {
        "id": "MvvFo0mhfPTY"
      },
      "outputs": [],
      "source": []
    },
    {
      "cell_type": "markdown",
      "metadata": {
        "id": "r0H1o4uffPTY"
      },
      "source": [
        " Tutaj zainicjuj zmienne `flight_df_columns_amount` oraz `flight_df_rows_amount`, które zostaną użyte do sprawdzenia poprawności wykonania tej części"
      ]
    },
    {
      "cell_type": "code",
      "execution_count": null,
      "metadata": {
        "id": "LUjVnkPefPTZ"
      },
      "outputs": [],
      "source": []
    },
    {
      "cell_type": "markdown",
      "metadata": {
        "id": "-sQl6hx1fPTZ"
      },
      "source": [
        " ## Sprawdzenie\n",
        " Uruchom kod poniżej, aby sprawdzić, czy ta część została poprawnie wykonana."
      ]
    },
    {
      "cell_type": "markdown",
      "metadata": {
        "id": "n9GkS7-PfPTZ"
      },
      "source": [
        " ### Sprawdzenie liczby kolumn"
      ]
    },
    {
      "cell_type": "code",
      "execution_count": null,
      "metadata": {
        "colab": {
          "base_uri": "https://localhost:8080/",
          "height": 183
        },
        "id": "Xw2HanpFfPTa",
        "outputId": "b76e0774-7c0b-4037-e817-460f39a1949b"
      },
      "outputs": [],
      "source": [
        "flight_df_expected_columns_amount = 28\n",
        "assert flight_df_columns_amount == flight_df_expected_columns_amount, f'Oczekiwano {flight_df_expected_columns_amount} kolumn, otrzymano {flight_df_columns_amount}'"
      ]
    },
    {
      "cell_type": "markdown",
      "metadata": {
        "id": "Ia9wAn-bfPTa"
      },
      "source": [
        " ### Sprawdzenie liczby wierszy"
      ]
    },
    {
      "cell_type": "code",
      "execution_count": null,
      "metadata": {
        "id": "r8OnZYX3fPTa"
      },
      "outputs": [],
      "source": [
        "flight_df_expected_rows_amount = 7287112\n",
        "assert flight_df_rows_amount == flight_df_expected_rows_amount, f'Oczekiwano {flight_df_expected_rows_amount} wierszy, otrzymano {flight_df_rows_amount}'"
      ]
    },
    {
      "cell_type": "markdown",
      "metadata": {
        "id": "uozHluysfPTa"
      },
      "source": [
        " ### Sprawdzenie czy nie zostały w ramce loty z 2020"
      ]
    },
    {
      "cell_type": "code",
      "execution_count": null,
      "metadata": {
        "id": "kZPAxHnJfPTb"
      },
      "outputs": [],
      "source": [
        "flight_df_year_test = flight_df.loc[flight_df['year'] == 2020].shape[0]\n",
        "assert flight_df_year_test == 0, 'W ramce `flight_df` nadal znajdują się loty z 2020 roku'"
      ]
    },
    {
      "cell_type": "markdown",
      "metadata": {
        "id": "o-uWkKRofPTb"
      },
      "source": [
        " ### Sprawdzenie czy nie zostały w ramce loty anulowane"
      ]
    },
    {
      "cell_type": "code",
      "execution_count": null,
      "metadata": {
        "id": "w9g0UKhAfPTb"
      },
      "outputs": [],
      "source": [
        "flight_df_cancelled_test = flight_df.loc[flight_df['cancelled'] != 0].shape[0]\n",
        "assert flight_df_cancelled_test == 0, 'W ramce `flight_df` nadal znajdują się anulowane loty'"
      ]
    },
    {
      "cell_type": "markdown",
      "metadata": {
        "id": "d26Pkv90fPTb"
      },
      "source": [
        " ### Sprawdzenie czy nazwa kolumny została poprawnie zmieniona"
      ]
    },
    {
      "cell_type": "code",
      "execution_count": null,
      "metadata": {
        "id": "E4ouXDNKfPTc"
      },
      "outputs": [],
      "source": [
        "assert 'dep_delay' in flight_df.columns, 'Kolumna dep_delay nie została znaleziona w ramce flight_df'"
      ]
    },
    {
      "cell_type": "markdown",
      "metadata": {
        "id": "suOSj5RUfPTc"
      },
      "source": [
        " # Analiza kolumny `dep_delay` cz. 1\n",
        " Wyznacz statystyki opisowe dla zmiennej `dep_delay` i zapisz do zmiennej `dep_delay_statistics_df`.\n",
        " W ramce powinny znaleźć się następujące wiersze:\n",
        " - średnia,\n",
        " - mediana,\n",
        " - odchylenie standardowe,\n",
        " - min, max\n",
        " - percentyle `[0.1, 0.25, 0.5, 0.75, 0.9, 0.95, 0.99]`\n",
        "\n",
        "Wyniki zaokrągl do dwóch miejsc po przecinku.\n",
        "\n",
        "W trakcie rozwiązywania tego zadania możesz posłużyć się następującymi materiałami:\n",
        " - `LMS -> Python-Analiza danych -> Przygotowanie do zjazd 3 -> Podstawy statystyki opisowej`\n",
        " - `describe` - dokumentacja techniczna metody: [klik](https://pandas.pydata.org/docs/reference/api/pandas.DataFrame.describe.html)"
      ]
    },
    {
      "cell_type": "markdown",
      "metadata": {
        "id": "cZmgvR9_fPTd"
      },
      "source": [
        " Tutaj wyznacz statystyki opisowe dla kolumny `dep_delay` oraz zainicjuj ramkę `dep_delay_statistics_df`"
      ]
    },
    {
      "cell_type": "code",
      "execution_count": null,
      "metadata": {
        "id": "P-Ll2oWdfPTd"
      },
      "outputs": [],
      "source": []
    },
    {
      "cell_type": "markdown",
      "metadata": {
        "id": "cwC_I9wkfPTd"
      },
      "source": [
        " ## Sprawdzenie wyników\n",
        " Uruchom kod poniżej, aby sprawdzić, czy ta część została poprawnie wykonana"
      ]
    },
    {
      "cell_type": "code",
      "execution_count": null,
      "metadata": {
        "id": "zjR3k8LtfPTd"
      },
      "outputs": [],
      "source": [
        "expected = {'count': 7287112.0, 'mean': 14.07, 'std': 47.82, 'min': 0.0, '10%': 0.0,\n",
        "            '25%': 0.0, '50%': 0.0, '75%': 7.0, '90%': 39.0, '95%': 77.0, '99%': 200.0, 'max': 2710.0}\n",
        "dep_delay_statistics_dict = dep_delay_statistics_df.to_dict()\n",
        "\n",
        "assert dep_delay_statistics_dict == expected, f'Błąd. Otrzymano wartości : {dep_delay_statistics_dict}'"
      ]
    },
    {
      "cell_type": "markdown",
      "metadata": {
        "id": "h3FuFQdAfPTd"
      },
      "source": [
        " # Analiza kolumny `dep_delay` cz. 2\n",
        " Przeanalizuj dokładniej kolumnę `dep_delay` wykonując poniższe polecenia:\n",
        " 1. Wyznacz wykres dla _całej kolumny_ (tzn. tak jak jest).\n",
        " 1. Wyznacz wykres z pominięciem tych wierszy, dla których `dep_delay=0`.\n",
        " 1. Obcinając wykres do percentyla 95% oraz pomijając `dep_delay=0`.\n",
        "\n",
        "Dla wszystkich wykresów użyj histogramu z koszykami co 10 tj. `[0, 10)`, `[10, 20)` i tak dalej.\n",
        "\n",
        "Możesz tutaj użyć swojego ulubionego narzędzia do tworzenia wykresów - `matplotlib` czy `dash`. Pamiętaj o odpowiednim wystylowaniu każdego z wykresów zgodnie z dobrymi praktykami.\n",
        "\n",
        " W trakcie pracy możesz posłużyć się następującymi artykułami:\n",
        " - Dla `Matplotlib`:\n",
        "     - `Python - analiza danych -> Dzień 7 - Wykresy -> Zaawansowane wykresy`\n",
        "     - `hist` - dokumentacja metody: [klik](https://matplotlib.org/stable/api/_as_gen/matplotlib.pyplot.hist.html)\n",
        " - Dla `Plotly`:\n",
        "     - `Wizualizacja danych -> Dzień 2 -> Wprowadznie do plotly`\n",
        "     - `histogram` - dokumentacja metody: [klik](https://plotly.com/python/histograms/)"
      ]
    },
    {
      "cell_type": "markdown",
      "metadata": {
        "id": "JDoneUplfPTe"
      },
      "source": [
        " Tutaj stwórz wykres dla całej kolumny `dep_delay`"
      ]
    },
    {
      "cell_type": "code",
      "execution_count": null,
      "metadata": {
        "id": "Oormr8RUfPTe"
      },
      "outputs": [],
      "source": []
    },
    {
      "cell_type": "markdown",
      "metadata": {
        "id": "C-O0KGojfPTe"
      },
      "source": [
        " Tutaj stwórz wykres dla `dep_delay` używając warunku `dep_delay > 0`"
      ]
    },
    {
      "cell_type": "code",
      "execution_count": null,
      "metadata": {
        "id": "KQq6PfLEfPTe"
      },
      "outputs": [],
      "source": []
    },
    {
      "cell_type": "markdown",
      "metadata": {
        "id": "sScl8v2GfPTe"
      },
      "source": [
        " Tutaj stwórz wykres dla `dep_delay` używając warunków `dep_delay > 0` oraz `dep_delay < percentile 95%`"
      ]
    },
    {
      "cell_type": "code",
      "execution_count": null,
      "metadata": {
        "id": "TQS3bUZwfPTe"
      },
      "outputs": [],
      "source": []
    },
    {
      "cell_type": "markdown",
      "metadata": {
        "id": "X0Gjv5CEfPTf"
      },
      "source": [
        " # Analiza opóźnień\n",
        " Zdefiniuj w ramce `flight_df` nową kolumnę - `is_delayed` jako te opóźnienia, które wynosiły więcej niż `(>)` 15 minut.\n",
        "\n",
        " Zgodnie z powyższą definicją, wyznacz jaki procent wszystkich lotów był opóźniony. Wynik zapisz do zmiennej `delayed_ratio` z dokładnością do dwóch miejsc po przecinku. Postaraj się, aby wartość tej zmiennej nie była zapisana ręcznie."
      ]
    },
    {
      "cell_type": "markdown",
      "metadata": {
        "id": "jX-1XuNMfPTf"
      },
      "source": [
        " Tutaj stwórz nową kolumnę `is_delayed` oraz odpowiednio ją uzupełnij."
      ]
    },
    {
      "cell_type": "code",
      "execution_count": null,
      "metadata": {
        "id": "WooTaLMJfPTf"
      },
      "outputs": [],
      "source": []
    },
    {
      "cell_type": "markdown",
      "metadata": {
        "id": "vNHmE-EOfPTf"
      },
      "source": [
        " Tutaj zdefiniuj oraz wyznacz wartość dla zmiennej `delayed_ratio`"
      ]
    },
    {
      "cell_type": "code",
      "execution_count": null,
      "metadata": {
        "id": "B8i9csOsfPTf"
      },
      "outputs": [],
      "source": []
    },
    {
      "cell_type": "markdown",
      "metadata": {
        "id": "Un1ubXlzfPTf"
      },
      "source": [
        " ### Sprawdzenie\n",
        " Uruchom kod poniżej, aby sprawdzić, czy ta część została poprawnie wykonana"
      ]
    },
    {
      "cell_type": "code",
      "execution_count": null,
      "metadata": {
        "id": "A2eoEWbBfPTf"
      },
      "outputs": [],
      "source": [
        "delayed_ratio_expected = 0.18\n",
        "assert delayed_ratio == delayed_ratio_expected, f\"Oczekiwanio {delayed_ratio_expected}, otrzymano {delayed_ratio}\""
      ]
    },
    {
      "cell_type": "markdown",
      "metadata": {
        "id": "0sFapSy2fPTf"
      },
      "source": [
        " # Opóźnienia vs. miesiąc kalendarzowy\n",
        " Zbadaj, jak zmienia się odsetek opóźnień w zależności od **miesiąca kalendarzowego**. Zadanie wykonaj w dwóch krokach:\n",
        " 1. stwórz zmienną `flight_delays_by_month_df` używając metody `groupby`,\n",
        " 1. na podstawie zmiennej `flight_delays_by_month_df`, wygeneruj odpowiedni wykres zgodnie z dobrymi praktykami.\n",
        "\n",
        "W trakcie pracy nad tym zadaniem możesz posłużyć się następującymi materiałami z `LMS`:\n",
        " - `Python - analiza danych -> Dzień 5 - Pandas -> Grupowanie`\n",
        " - `groupby`- dokumentacja metody `Pandas`: [klik](https://pandas.pydata.org/docs/reference/api/pandas.DataFrame.groupby.html)"
      ]
    },
    {
      "cell_type": "markdown",
      "metadata": {
        "id": "zEqnUy1jfPTg"
      },
      "source": [
        " Tutaj pogrupuj dane, a wyniki zapisz do ramki `flight_delays_by_month_df`"
      ]
    },
    {
      "cell_type": "code",
      "execution_count": null,
      "metadata": {
        "id": "ILE80jcqfPTg"
      },
      "outputs": [],
      "source": []
    },
    {
      "cell_type": "markdown",
      "metadata": {
        "id": "ZJPHjuGvfPTg"
      },
      "source": [
        " Tutaj narysuj wykres, używając danych z ramki `flight_delays_by_month_df`"
      ]
    },
    {
      "cell_type": "code",
      "execution_count": null,
      "metadata": {
        "id": "felzDxiefPTg"
      },
      "outputs": [],
      "source": []
    },
    {
      "cell_type": "markdown",
      "metadata": {
        "id": "FWhdXPwVfPTg"
      },
      "source": [
        " # Opóźnienia vs. dzień tygodnia cz. 1\n",
        " Zbadaj, jak zmienia się odsetek opóźnień w zależności od **dnia tygodnia**. Zadanie wykonaj w dwóch krokach:\n",
        " 1. stwórz zmienną `flight_delays_by_weekday_df` używając metody `groupby`,\n",
        " 1. na podstawie zmiennej `flight_delays_by_weekday_df`, wygeneruj odpowiedni wykres zgodnie z dobrymi praktykami."
      ]
    },
    {
      "cell_type": "markdown",
      "metadata": {
        "id": "045Q6fzkfPTg"
      },
      "source": [
        " Tutaj pogrupuj dane"
      ]
    },
    {
      "cell_type": "code",
      "execution_count": null,
      "metadata": {
        "id": "SfiWTKDxfPTh"
      },
      "outputs": [],
      "source": []
    },
    {
      "cell_type": "markdown",
      "metadata": {
        "id": "x8QqVvLIfPTh"
      },
      "source": [
        " Tutaj narysuj wykres"
      ]
    },
    {
      "cell_type": "code",
      "execution_count": null,
      "metadata": {
        "id": "8t1bsNAefPTh"
      },
      "outputs": [],
      "source": []
    },
    {
      "cell_type": "markdown",
      "metadata": {
        "id": "Hef6UKudfPTh"
      },
      "source": [
        " # Opóźnienia vs. dzień tygodnia cz. 2\n",
        " Dokonaj agregacji kolumny `day_of_week` do nowej kolumny `is_weekend` w `flight_df`. Jako weekend przyjmij wartości 6, 7.\n",
        " 1. Używając grupowania, wyznacz odsetek opóźnień w zależności od tego, czy lot odbywał się w weekend czy nie. Wyniki zapisz do ramki `flight_delays_by_weekend_df` oraz zaokrąglij do dwóch miejsc po przecinku.\n",
        " 1. Zaprezentuj graficznie wynik analizy.\n",
        " 1. Czy Twoim zdaniem odsetek opóźnień jest zależny od tego, czy lot odbywał się w weekend? Uzasadnij."
      ]
    },
    {
      "cell_type": "markdown",
      "metadata": {
        "id": "sBK8g0KDfPTh"
      },
      "source": [
        " Tutaj dodaj nową kolumnę `is_weekend` do `flight_df`"
      ]
    },
    {
      "cell_type": "code",
      "execution_count": null,
      "metadata": {
        "id": "hoXhhRp2fPTh"
      },
      "outputs": [],
      "source": []
    },
    {
      "cell_type": "markdown",
      "metadata": {
        "id": "G6ZAazh6fPTh"
      },
      "source": [
        " Tutaj dokonaj agregacji danych do ramki `flight_delays_by_weekend_df`"
      ]
    },
    {
      "cell_type": "code",
      "execution_count": null,
      "metadata": {
        "id": "WnZx24jhfPTh"
      },
      "outputs": [],
      "source": []
    },
    {
      "cell_type": "markdown",
      "metadata": {
        "id": "jjbnHZ-sfPTh"
      },
      "source": [
        " Tutaj narysuj wykres, używając danych z ramki `flight_delays_by_weekend_df`"
      ]
    },
    {
      "cell_type": "code",
      "execution_count": null,
      "metadata": {
        "id": "N923OTxRfPTi"
      },
      "outputs": [],
      "source": []
    },
    {
      "cell_type": "markdown",
      "metadata": {
        "id": "RWWcYaCafPTi"
      },
      "source": [
        " ### Sprawdzenie\n",
        " Uruchom kod poniżej, aby sprawdzić, czy ta część została poprawnie wykonana"
      ]
    },
    {
      "cell_type": "code",
      "execution_count": null,
      "metadata": {
        "id": "T6QFai7RfPTi"
      },
      "outputs": [],
      "source": [
        "expected_flight_df_by_weekend = {0: 0.18, 1: 0.17}\n",
        "assert flight_delays_by_weekend_df.to_dict(\n",
        ") == expected_flight_df_by_weekend, f'Spodziewano się wyników: {expected_flight_df_by_weekend}\\n otrzymano  {flight_delays_by_weekend_df}'"
      ]
    },
    {
      "cell_type": "markdown",
      "metadata": {
        "id": "4rTzizXkfPTi"
      },
      "source": [
        " # Opóźnienia vs. odległość lotu\n",
        " Przeanalizuj kolumnę `distance`, wykonując poniższe polecenia:\n",
        " 1. Podobnie jak dla zmiennej `dep_delay`, wyznacz statystyki opisowe oraz dodatkowo przedstaw percentyle `[0.1, 0.25, 0.5, 0.75, 0.9, 0.95, 0.99]`. Wynik zapisz do zmiennej `flight_distance_analysis_df` oraz zaokrąglij do dwóch miejsc po przecinku.\n",
        " 1. Nakreśl wykres punktowy (`scatter`) używając `distance` oraz `dep_delay`. Narysuj wykres dla losowych 10 tysięcy wierszy. Czy na takim wykresie możesz coś zaobserwować?\n",
        " 1. Usuń z ramki `flight_df`, te wiersze, dla których `distance` jest powyżej 95% percentyla.\n",
        " 1. Używając ramki `flight_df`, dokonaj agregacji zmiennej `distance` co 100 mil do nowej kolumny `distance_agg` oraz wyznacz odsetek opóźnień w każdym koszyku. Wynik zapisz do ramki o nazwie `flight_delays_by_distance_agg_df`.\n",
        " 1. Narysuj wykres słupkowy, używając danych zapisanych w `flight_delays_by_distance_agg_df`.\n",
        " 1. Czy Twoim zdaniem większy dystans oznacza większe prawdopodobieństwo opóźnienia lotu? Uzasadnij.\n",
        "\n",
        " Wskazówka:\n",
        " - Przy generowaniu losowych wierszy przyda sie link do dokumentacji metody `sample`: [klik](https://pandas.pydata.org/docs/reference/api/pandas.DataFrame.sample.html)\n",
        " - Przy generowaniu grup przyda się link do dokumentacji metody `cut`: [klik](https://pandas.pydata.org/docs/reference/api/pandas.cut.html)\n",
        "\n",
        " > Dla dużych zbiorów danych kreślenie wszystkich danych mija się z celem ze względu na czytelność. Mimo że zaprezentujemy pewną część zbioru, zakładamy, że danych na wykresie jest na tyle dużo, że stanowią one reprezentacyjną próbkę populacji."
      ]
    },
    {
      "cell_type": "markdown",
      "metadata": {
        "id": "4BmJDykhfPTi"
      },
      "source": [
        " Tutaj dokonaj agregacji danych do ramki `flight_distance_analysis_df`"
      ]
    },
    {
      "cell_type": "code",
      "execution_count": null,
      "metadata": {
        "id": "NIjw3Fv8fPTj"
      },
      "outputs": [],
      "source": []
    },
    {
      "cell_type": "markdown",
      "metadata": {
        "id": "JU2vf5EGfPTj"
      },
      "source": [
        " Tutaj narysuj wykres dla 10 000 losowych wierszy z tabeli `flight_df`"
      ]
    },
    {
      "cell_type": "code",
      "execution_count": null,
      "metadata": {
        "id": "5tsOsy6XfPTj"
      },
      "outputs": [],
      "source": []
    },
    {
      "cell_type": "markdown",
      "metadata": {
        "id": "Iq_qqPK3fPTj"
      },
      "source": [
        " Tutaj usuń z ramki `flight_df` wiersze, dla których `distance` jest powyżej `95% percentyla` (> 95%)"
      ]
    },
    {
      "cell_type": "code",
      "execution_count": null,
      "metadata": {
        "id": "U6tgYJLbfPTj"
      },
      "outputs": [],
      "source": []
    },
    {
      "cell_type": "markdown",
      "metadata": {},
      "source": [
        "### Sprawdzenie"
      ]
    },
    {
      "cell_type": "code",
      "execution_count": null,
      "metadata": {},
      "outputs": [],
      "source": [
        "flight_df_expected_rows_amount = 6922924\n",
        "flight_df_rows_amount = flight_df.shape[0]\n",
        "\n",
        "assert flight_df_rows_amount == flight_df_expected_rows_amount, f'Oczekiwano {flight_df_expected_rows_amount} wierszy, otrzymano {flight_df_rows_amount}'"
      ]
    },
    {
      "cell_type": "markdown",
      "metadata": {
        "id": "AfIIhlJBfPTj"
      },
      "source": [
        " Tutaj dokonaj agregacji zmiennej `distance` oraz wyznacz odsetek opóźnień"
      ]
    },
    {
      "cell_type": "markdown",
      "metadata": {},
      "source": []
    },
    {
      "cell_type": "code",
      "execution_count": null,
      "metadata": {
        "id": "imJl30pBfPTj"
      },
      "outputs": [],
      "source": []
    },
    {
      "cell_type": "markdown",
      "metadata": {
        "id": "c7vSl-h2fPTj"
      },
      "source": [
        " Tutaj narysuj wykres słupkowy, używając danych zapisanych w `flight_delays_by_distance_agg_df`"
      ]
    },
    {
      "cell_type": "code",
      "execution_count": null,
      "metadata": {
        "id": "r3pwIEyZfPTk"
      },
      "outputs": [],
      "source": []
    },
    {
      "cell_type": "markdown",
      "metadata": {
        "id": "yvyx1lfdfPTk"
      },
      "source": [
        " ## Sprawdzenie\n",
        " Uruchom kod poniżej, aby sprawdzić, czy ta część została poprawnie wykonana"
      ]
    },
    {
      "cell_type": "code",
      "execution_count": null,
      "metadata": {
        "id": "d5qCjpzGfPTk"
      },
      "outputs": [],
      "source": [
        "assert 'distance_agg' in flight_df.columns, 'Nie odnaleziono kolumny distance_agg w ramce flight_df'"
      ]
    },
    {
      "cell_type": "markdown",
      "metadata": {
        "id": "Ebk-kU1yfPTk"
      },
      "source": [
        " # Opóźnienia vs. grupa odległości\n",
        " Przeanalizuj kolumnę `distance_group` dostępą w zbiorze danych oraz odpowiedz na poniższe:\n",
        " 1. Dla jakich odcinków zostały wyznaczone poszczególne grupy? Wyznacz maksymalną oraz minimalną `distance` wartość w poszczególnych grupach. Wynik zapisz do ramki `flight_distance_by_distance_group`.\n",
        " 1. Wyznacz prawdopodobieństwo opóźnienia przy użyciu tych grup. Wynik zapisz do ramki `flight_delays_by_distance_group_df`.\n",
        " 1. Używając ramki `flight_delays_by_distance_group_df`, wykreśl odpowiedni wykres wizualizujący dane.\n",
        " 1. Na ile zbieżne są wyniki tej analizy z tą wykonaną w poprzednim punkcie?\n",
        "\n",
        "Wskazówka do punktu pierwszego:\n",
        " - Do agregacji danych przyda się metoda `agg`: `Python - analiza danych -> Dzień 5 - Pandas -> Grupowanie`\n",
        " - Dokumentacja metody `agg`: [klik](https://pandas.pydata.org/pandas-docs/stable/reference/api/pandas.DataFrame.agg.html)"
      ]
    },
    {
      "cell_type": "markdown",
      "metadata": {
        "id": "eTAVEgEpfPTk"
      },
      "source": [
        "Tutaj wyznacz odcinki, dla których zostały wyznaczone poszczególne grupy"
      ]
    },
    {
      "cell_type": "code",
      "execution_count": null,
      "metadata": {
        "id": "lPOs9od5fPTk"
      },
      "outputs": [],
      "source": []
    },
    {
      "cell_type": "markdown",
      "metadata": {
        "id": "fI4Ynl6QfPTk"
      },
      "source": [
        " Tutaj wyznacz odsetek opóźnień w każdej grupie zapisując wyniki do ramki `flight_delays_by_distance_group_df`"
      ]
    },
    {
      "cell_type": "code",
      "execution_count": null,
      "metadata": {
        "id": "DGuIVOGifPTk"
      },
      "outputs": [],
      "source": []
    },
    {
      "cell_type": "markdown",
      "metadata": {
        "id": "_G_-dJHXfPTl"
      },
      "source": [
        " Tutaj narysuj wykres przy użyciu ramki `flight_delays_by_distance_group_df`"
      ]
    },
    {
      "cell_type": "code",
      "execution_count": null,
      "metadata": {
        "id": "vXL5chp3fPTl"
      },
      "outputs": [],
      "source": []
    },
    {
      "cell_type": "markdown",
      "metadata": {
        "id": "8GD6EcCOfPTl"
      },
      "source": [
        " ## Czy większy dystans oznacza większe prawdopodobieństwo opóźeninia lotu?\n",
        " Miejsce na Twój komentarz - czy wykresy można porównać? Czy dają takie same wnioski?"
      ]
    },
    {
      "cell_type": "markdown",
      "metadata": {
        "id": "ilUyQqL0fPTl"
      },
      "source": []
    },
    {
      "cell_type": "markdown",
      "metadata": {
        "id": "5cbaMmfFfPTl"
      },
      "source": [
        " # Podsumowanie\n",
        " W tym notatniku dość dokładnie przeanalizowaliśmy ramkę `fligh_delays` bez wzbogacania jej o dodatkowe dane z innych źródeł, takich jak dane pogodowe.\n",
        "\n",
        " Zanim przejdziemy dalej, należy zapisać bieżącą postać ramki (najlepiej lokalnie), która zostanie użyta w kolejnym notatniku.\n",
        "\n",
        " > **Wskazówka:**  \n",
        " > Aby uniknąć potencjalnych problemów, najlepiej zapisać ramkę w sposób nawiązujący do tego notatnika, np. `flight_df_01`."
      ]
    },
    {
      "cell_type": "markdown",
      "metadata": {
        "id": "B01zpWkXfPTl"
      },
      "source": [
        " Tutaj zapisz ramkę w najdogodniejszy dla siebie sposób."
      ]
    },
    {
      "cell_type": "code",
      "execution_count": null,
      "metadata": {
        "id": "UUC6Rs-ffPTl"
      },
      "outputs": [],
      "source": []
    }
  ],
  "metadata": {
    "colab": {
      "provenance": []
    },
    "kernelspec": {
      "display_name": "Python 3.10.5 ('venv': venv)",
      "language": "python",
      "name": "python3"
    },
    "language_info": {
      "name": "python",
      "version": "3.10.5"
    },
    "orig_nbformat": 4,
    "vscode": {
      "interpreter": {
        "hash": "136089914e87e2d4f80cd8636e7ceb6fbad42888d13047c5eed4d3dfe8a58423"
      }
    }
  },
  "nbformat": 4,
  "nbformat_minor": 0
}

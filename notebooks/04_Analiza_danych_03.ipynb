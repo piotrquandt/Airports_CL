{
  "cells": [
    {
      "cell_type": "markdown",
      "metadata": {
        "id": "GSGpg7lciSr0"
      },
      "source": [
        " # Opis notatnika\n",
        " Zmierzamy do końca analizy danych, które zostały nam udostępnione. Ten krok dodaje jeszcze więcej informacji do naszego wyjściowego zbioru. Tym razem sprawdzimy między innymi to, czy opóźnienia lotów zależne są od trasy czy warunków pogodowych.\n",
        "\n",
        " Zanim jednak do tego przejdziemy, należy, podobnie jak w poprzednich krokach, skonfigurować odpowiednio notatnik."
      ]
    },
    {
      "cell_type": "markdown",
      "metadata": {
        "id": "bF88obm2iSr4"
      },
      "source": [
        " Tutaj zaimportuj wymagane biblioteki"
      ]
    },
    {
      "cell_type": "code",
      "execution_count": null,
      "metadata": {
        "id": "UuQtAJAOiSr5"
      },
      "outputs": [],
      "source": []
    },
    {
      "cell_type": "markdown",
      "metadata": {
        "id": "WRSC_2ogiSr6"
      },
      "source": [
        " ## Połączenie z bazą danych\n",
        " Tutaj uzupełnij konfigurację połączenia"
      ]
    },
    {
      "cell_type": "code",
      "execution_count": null,
      "metadata": {
        "id": "444G833ciSr7"
      },
      "outputs": [],
      "source": []
    },
    {
      "cell_type": "markdown",
      "metadata": {
        "id": "IlQvHCwHiSr7"
      },
      "source": [
        " Tutaj stwórz zmienną engine, która zostanie użyta do połączenia z bazą danych"
      ]
    },
    {
      "cell_type": "code",
      "execution_count": null,
      "metadata": {
        "id": "uczM1OVWiSr8"
      },
      "outputs": [],
      "source": []
    },
    {
      "cell_type": "markdown",
      "metadata": {
        "id": "3OUYFIwLiSr8"
      },
      "source": [
        " Tutaj uzupełnij implementację metody `read_sql_table`"
      ]
    },
    {
      "cell_type": "code",
      "execution_count": null,
      "metadata": {
        "id": "X5HAtWUGiSr9"
      },
      "outputs": [],
      "source": [
        "def read_sql_table(table_name):\n",
        "    pass\n"
      ]
    },
    {
      "cell_type": "markdown",
      "metadata": {
        "id": "s5VOVS0DiSr-"
      },
      "source": [
        " Tutaj zaczytaj zapisaną wcześniej ramkę danych `flight_df` do zmniennej o takiej samej nazwie"
      ]
    },
    {
      "cell_type": "code",
      "execution_count": null,
      "metadata": {
        "id": "1qkBzo5QiSr-"
      },
      "outputs": [],
      "source": []
    },
    {
      "cell_type": "markdown",
      "metadata": {
        "id": "npSQe2AriSr-"
      },
      "source": [
        " # Wzbogacenie o `airport_list`\n",
        " Wczytaj do obszaru roboczego tabelę `airport_list` używając procedury `read_sql_table`. Wykonaj poniższe ćwiczenia:\n",
        " 1. Sprawdź, czy klucz `origin_airport_id` jest unikalny, tj. nie ma dwóch takich samych wartości w kolumnie `origin_airport_id`,\n",
        " 1. Jeżeli duplikaty występują, usuń je w najdogodniejszy dla Ciebie sposób.\n",
        " 1. Jeśli duplikaty nie występują, złącz ramki `airport_list_df` wraz z aktualną `flight_df`, używając kolumny `origin_airport_id` oraz złączenia typu `LEFT JOIN`. Z ramki `airport_list_df` interesuje nas dodanie kolumny `origin_city_name`.\n",
        " 1. Dodatkowo dokonaj jeszcze raz złączenia ramki `flight_df` z `airport_list_df`, tym razem jednak złącz kolumnę `destination_airport_id` wraz z `origin_airport_id`. Podobnie jak wcześniej, interesuje nas kolumna `origin_city_name`, jedank ona powinna zostać wyświetlona jako `destination_city_name`"
      ]
    },
    {
      "cell_type": "markdown",
      "metadata": {
        "id": "f1ujavbmiSr_"
      },
      "source": [
        " Tutaj wczytaj ramkę `airport_list_df`"
      ]
    },
    {
      "cell_type": "code",
      "execution_count": null,
      "metadata": {
        "id": "NqU5iI3kiSsA"
      },
      "outputs": [],
      "source": []
    },
    {
      "cell_type": "markdown",
      "metadata": {
        "id": "y7BoIO66iSsA"
      },
      "source": [
        " Tutaj sprawdż, czy występują duplikaty dla kolumny `origin_airport_id`"
      ]
    },
    {
      "cell_type": "code",
      "execution_count": null,
      "metadata": {
        "id": "NO2RzpYDiSsA"
      },
      "outputs": [],
      "source": []
    },
    {
      "cell_type": "markdown",
      "metadata": {
        "id": "mRoPbkefiSsA"
      },
      "source": [
        " Tutaj usuń duplikaty - jeśli występują"
      ]
    },
    {
      "cell_type": "code",
      "execution_count": null,
      "metadata": {
        "id": "sdDW1fcDiSsB"
      },
      "outputs": [],
      "source": []
    },
    {
      "cell_type": "markdown",
      "metadata": {
        "id": "lay6tlPSiSsB"
      },
      "source": [
        " Tutaj dokonaj złączenia ramki `flight_df` oraz `airport_list_df` używając `origin_airport_id`"
      ]
    },
    {
      "cell_type": "code",
      "execution_count": null,
      "metadata": {
        "id": "tsKvEv7ZiSsB"
      },
      "outputs": [],
      "source": []
    },
    {
      "cell_type": "markdown",
      "metadata": {
        "id": "5AcIjdrSiSsB"
      },
      "source": [
        " Tutaj dokonaj złączenia ramki `flight_df` oraz `airport_list_df` używając `destination_airport_id`"
      ]
    },
    {
      "cell_type": "code",
      "execution_count": null,
      "metadata": {
        "id": "79pOLYquiSsC"
      },
      "outputs": [],
      "source": []
    },
    {
      "cell_type": "markdown",
      "metadata": {
        "id": "YOkJOvPDiSsC"
      },
      "source": [
        "### Sprawdzenie\n",
        "Uruchom kod poniżej, aby sprawdzić, czy ta część została poprawnie wykonana"
      ]
    },
    {
      "cell_type": "code",
      "execution_count": null,
      "metadata": {
        "id": "6-DKaJV3iSsC"
      },
      "outputs": [],
      "source": [
        "assert 'origin_city_name' in flight_df.columns, 'Brak kolumny `origin_city_name` w ramce flight_df'\n",
        "assert 'destination_city_name' in flight_df.columns, 'Brak kolumny `destination_city_name` w ramce flight_df'\n",
        "\n",
        "flight_df_expected_rows_amount = 6922924\n",
        "assert flight_df.shape[0] == flight_df_expected_rows_amount, 'Ups, zwiększyła się liczba wierszy...'"
      ]
    },
    {
      "cell_type": "markdown",
      "metadata": {
        "id": "TM_T8_yUiSsC"
      },
      "source": [
        " ## Analiza według lotnisk oraz tras\n",
        " Wykonaj poniższe polecenia:\n",
        " 1. Wyznacz lotniska, z których **odlatywało** najwięcej samolotów. Wynik zapisz do ramki `top_airports_origin_df`.\n",
        " 1. Wyznacz lotnika, na których najwięcej lotów **się kończyło**. Wynik zapisz do ramki `top_airports_destination_df`.\n",
        " 1. Wyznacz najczęściej uczęszczaną trasę, wynik zapisz do ramki `top_route_df`.\n",
        " 1. Przy założeniu, że reprezentatywna liczba lotów na trasie wynosi ponad 500, wyznacz dodatkowo top 10:\n",
        "     - tras z **najmniejszym odsetkiem opóźnień**, wynik zapisz do ramki `least_route_delays_df`.\n",
        "     - tras z **największym odsetkiem opóźnień**, wynik zapisz do ramki `top_route_delays_df`."
      ]
    },
    {
      "cell_type": "markdown",
      "metadata": {
        "id": "dZkT8xQQiSsD"
      },
      "source": [
        " Tutaj wyznacz ramkę `top_airports_origin_df`"
      ]
    },
    {
      "cell_type": "code",
      "execution_count": null,
      "metadata": {
        "id": "QdcYfGq0iSsD"
      },
      "outputs": [],
      "source": []
    },
    {
      "cell_type": "markdown",
      "metadata": {
        "id": "NspSpmgWiSsD"
      },
      "source": [
        " Tutaj wyznacz ramkę `top_airports_destination_df`"
      ]
    },
    {
      "cell_type": "code",
      "execution_count": null,
      "metadata": {
        "id": "PUsGhMxciSsD"
      },
      "outputs": [],
      "source": []
    },
    {
      "cell_type": "markdown",
      "metadata": {
        "id": "ipHJ5jBQiSsE"
      },
      "source": [
        " ### Sprawdzenie dla `top_airport_origin`"
      ]
    },
    {
      "cell_type": "code",
      "execution_count": null,
      "metadata": {
        "id": "HSW0atgsiSsE"
      },
      "outputs": [],
      "source": [
        "top_airports_origin_head = (top_airports_origin_df\n",
        "                            .sort_values(ascending=False)\n",
        "                            .head()\n",
        "                            .to_list()\n",
        "                            )\n",
        "top_airports_origin_head = tuple(top_airports_origin_head)\n",
        "top_airports_origin_head_expected = (387620, 327647, 294944, 245160, 228415)\n",
        "\n",
        "assert top_airports_origin_head == top_airports_origin_head_expected, f\"Nie zgadza się top 5 wierszy, oczekiwano wyników: {top_airports_origin_head_expected} otrzymano: {top_airports_origin_head}\""
      ]
    },
    {
      "cell_type": "markdown",
      "metadata": {
        "id": "GlET6bUoiSsE"
      },
      "source": [
        "### Sprawdzenie dla `top_airport_destination`"
      ]
    },
    {
      "cell_type": "code",
      "execution_count": null,
      "metadata": {
        "id": "dPCfyL8kiSsE"
      },
      "outputs": [],
      "source": [
        "top_airports_destination_head = (top_airports_destination_df\n",
        "                                 .sort_values(ascending=False)\n",
        "                                 .head()\n",
        "                                 .to_list()\n",
        "                                 )\n",
        "top_airports_destination_head = tuple(top_airports_destination_head)\n",
        "top_airports_destination_head_expected = (387542, 327169, 294568, 244898, 227917)\n",
        "\n",
        "assert top_airports_destination_head == top_airports_destination_head_expected, f\"Nie zgadza się top 5 wierszy, oczekiwano wyników: {top_airports_destination_head_expected} otrzymano: {top_airports_destination_head}\"\n"
      ]
    },
    {
      "cell_type": "markdown",
      "metadata": {
        "id": "ti3aFTkhiSsF"
      },
      "source": [
        " # Wzbogacenie o dane pogodowe\n",
        " Używając procedury `read_sql_table`, wczytaj tabelę `airport_weather` do ramki `airport_weather_df`. Następnie wykonaj następujące polecenia:\n",
        " 1. Pozostaw w ramce tylko następujące kolumny: `['station', 'name', 'date', 'prcp', 'snow', 'snwd', 'tmax', 'awnd']`.\n",
        " 1. Połącz ramki `airport_list_df` wraz z `airport_weather_df` po odpowiedniej kolumnie używając takiego złączenia, aby w wyniku usunąć te wiersze (lotniska), które nie posiadają danych pogodowych. Dodatkowo, upewnij się, że zostanie tylko dodana kolumna `origin_airport_id`."
      ]
    },
    {
      "cell_type": "markdown",
      "metadata": {
        "id": "XmM1BAg2iSsF"
      },
      "source": [
        " Tutaj wczytaj ramkę `airport_weather`"
      ]
    },
    {
      "cell_type": "code",
      "execution_count": null,
      "metadata": {
        "id": "_8K-0UuYiSsF"
      },
      "outputs": [],
      "source": []
    },
    {
      "cell_type": "markdown",
      "metadata": {
        "id": "UUWJZl4yiSsF"
      },
      "source": [
        " Tutaj oczyść ramkę `airport_weather_df` z nadmiarowych kolumn"
      ]
    },
    {
      "cell_type": "code",
      "execution_count": null,
      "metadata": {
        "id": "uKoYzdP6iSsF"
      },
      "outputs": [],
      "source": []
    },
    {
      "cell_type": "markdown",
      "metadata": {
        "id": "OS7fYirxiSsF"
      },
      "source": [
        " Tutaj połącz ramki `airport_list_df` oraz `airport_weather_df` aktualizując `airport_weather_df`"
      ]
    },
    {
      "cell_type": "code",
      "execution_count": null,
      "metadata": {
        "id": "MtUutZM-iSsG"
      },
      "outputs": [],
      "source": []
    },
    {
      "cell_type": "markdown",
      "metadata": {
        "id": "Woi9xDUyiSsG"
      },
      "source": [
        " ### Sprawdzenie\n",
        " Uruchom kod poniżej, aby sprawdzić, czy ta część została poprawnie wykonana"
      ]
    },
    {
      "cell_type": "code",
      "execution_count": null,
      "metadata": {
        "id": "oJ-Hl8DIiSsG"
      },
      "outputs": [],
      "source": [
        "airport_weather_df_expected_shape = (43394, 9)\n",
        "airport_weather_df_shape = airport_weather_df.shape\n",
        "\n",
        "assert airport_weather_df_expected_shape == airport_weather_df_shape, f'Nieodpowiedni wymiar ramki airport_weather_df, oczekiwano (wierszy, kolumn): {airport_weather_df_expected_shape}'"
      ]
    },
    {
      "cell_type": "markdown",
      "metadata": {
        "id": "84aqKqmqiSsG"
      },
      "source": [
        " ## Połączenie `airport_weather_df` oraz `flight_df`\n",
        " W celu złączenia ramek `airport_weather_df` oraz `flight_df` wykonaj następujące kroki:\n",
        " 1. w ramce `aiport_weather_df` występuje kolumna `date`, zrzutuj ją na typ `DATETIME`.\n",
        " 1. w ramce `flight_df` należy stworzyć nową kolumnę o nazwie `date`. W tym celu:\n",
        " \t- złącz kolumny `month`, `day_of_month` oraz `year` razem, użyj następującego formatu daty: `YYYY-MM-DD`.\n",
        " \t- zrzutuj kolumnę `date` na typ `DATETIME`.\n",
        " 1. złącz ramki używając odpowiedniego klucza, wynik złączenia zapisz do ramki `flight_df`. Uzyj złącznia typu `LEFT JOIN`.\n",
        "\n",
        " > Dlaczego istotne jest zachowanie typów przy złączeniu?\n",
        "\n",
        "W trakcie pracy możesz posłużyć się następującymi artykułami z `LMS`:\n",
        " - `Python - analiza danych > Dzień 6 - Pandas > Merge`\n",
        " - `Python - analiza danych > Dzień 6 - Pandas > Praca z datetime`\n",
        " - Dokumentacje metody `to_datetime`: [klik](https://pandas.pydata.org/docs/reference/api/pandas.to_datetime.html)\n",
        " - Dostępne formaty dat: [klik](https://www.programiz.com/python-programming/datetime/strftime) - sekcja `Format Code List`"
      ]
    },
    {
      "cell_type": "markdown",
      "metadata": {
        "id": "3LimbS-niSsG"
      },
      "source": [
        " Tutaj zrzutuj kolumnę `date` na `DATETIME` w ramce `airport_weather_df`"
      ]
    },
    {
      "cell_type": "code",
      "execution_count": null,
      "metadata": {
        "id": "SZKRgHq1iSsG"
      },
      "outputs": [],
      "source": []
    },
    {
      "cell_type": "markdown",
      "metadata": {
        "id": "99k4j9KSiSsH"
      },
      "source": [
        " Tutaj stwórz kolumnę `date` w ramce `flight_df`. Pamiętaj, aby była ona również typu `DATETIME`"
      ]
    },
    {
      "cell_type": "code",
      "execution_count": null,
      "metadata": {
        "id": "XtcN9xcxiSsH"
      },
      "outputs": [],
      "source": []
    },
    {
      "cell_type": "markdown",
      "metadata": {
        "id": "joHaF82HiSsH"
      },
      "source": [
        " Tutaj złącz tabele `airport_weather_df` oraz `flight_df`"
      ]
    },
    {
      "cell_type": "code",
      "execution_count": null,
      "metadata": {
        "id": "KK_ZnwZmiSsH"
      },
      "outputs": [],
      "source": []
    },
    {
      "cell_type": "markdown",
      "metadata": {
        "id": "CKYPhq-CiSsH"
      },
      "source": [
        " ### Sprawdzenie\n",
        " Uruchom kod poniżej, aby sprawdzić, czy ta część została poprawnie wykonana"
      ]
    },
    {
      "cell_type": "code",
      "execution_count": null,
      "metadata": {
        "id": "ebiyp_5SiSsH"
      },
      "outputs": [],
      "source": [
        "flight_df_expected_rows_amount = 6922924\n",
        "assert flight_df.shape[0] == flight_df_expected_rows_amount, 'Ups, zmieniła się liczba wierszy...'"
      ]
    },
    {
      "cell_type": "markdown",
      "metadata": {
        "id": "FopJHJ3-iSsH"
      },
      "source": [
        " # Praca samodzielna\n",
        " Używając `flight_df` zbadaj następujące hipotezy:\n",
        " 1. Opady śniegu w lotnisku wylotowym wpływają na **wielkość** opóźnienia lotów (kolumna `snow`).\n",
        " 1. Wielkość pokrywy śnieżnej wpływa na **wielkość** opóźnienia lotów (kolumna `snwd`).\n",
        " 1. Temperatura maksymalna wpływa na **wielkość** opóźnienia lotów (kolumna `tmax`).\n",
        " W każdym ćwiczeniu pamiętaj o uwzględnieniu tylko tych zjawisk atmosferycznych, które były zaobserwowane (`>`). Przy wykonywaniu tego zadania masz pełną dowolność.\n",
        "\n",
        "> **Wskazówka:**  \n",
        "> Pamiętaj o tym, aby każda analiza była porównywalna, tj. dokonana przy podobnych założeniach."
      ]
    },
    {
      "cell_type": "markdown",
      "metadata": {
        "id": "ot9M18lXiSsI"
      },
      "source": [
        " ## Analiza dla kolumny `snow`"
      ]
    },
    {
      "cell_type": "markdown",
      "metadata": {
        "id": "8Bfo0ZU6iSsI"
      },
      "source": [
        " ### Określenie statystyk opisowych dla kolumny `snow`"
      ]
    },
    {
      "cell_type": "code",
      "execution_count": null,
      "metadata": {
        "id": "_HYZz1UYiSsI"
      },
      "outputs": [],
      "source": []
    },
    {
      "cell_type": "markdown",
      "metadata": {
        "id": "71em1ElSiSsI"
      },
      "source": [
        " ## Analiza dla kolumny `snwd`"
      ]
    },
    {
      "cell_type": "markdown",
      "metadata": {
        "id": "qZ3XLzuyiSsI"
      },
      "source": [
        " ### Określenie statystyk opisowych dla kolumny `snwd`"
      ]
    },
    {
      "cell_type": "code",
      "execution_count": null,
      "metadata": {
        "id": "GQbego0SiSsI"
      },
      "outputs": [],
      "source": []
    },
    {
      "cell_type": "markdown",
      "metadata": {
        "id": "esT7sp11iSsI"
      },
      "source": [
        " ## Analiza dla kolumny `tmax`"
      ]
    },
    {
      "cell_type": "markdown",
      "metadata": {
        "id": "VhDL12yxiSsI"
      },
      "source": [
        " ### Określenie statystyk opisowych dla kolumny `tmax`"
      ]
    },
    {
      "cell_type": "code",
      "execution_count": null,
      "metadata": {
        "id": "vAViuWrdiSsJ"
      },
      "outputs": [],
      "source": []
    },
    {
      "cell_type": "markdown",
      "metadata": {
        "id": "B9pXYHV_iSsJ"
      },
      "source": [
        "# Podsumowanie\n",
        "W tej części warsztatu dokonaliśmy kompleksowej analizy posiadanego zbioru danych. Eksploracja\n",
        "pozwoliła nam na zapoznanie się z cechami charakterystycznymi lotów - wiemy już, które \n",
        "zmienne mogą mieć wpływ na opóźnienia lotów, a które nie. Co warto podkreślić, skupiliśmy się na wielu\n",
        "aspektach tej analizy, co otwiera potencjalnie również inne możliwości dalszej pracy nad tą bazą.\n",
        "\n",
        "W tym momencie przejdziemy do kolejnego kroku, w którym, na podstawie tej analizy, przygotujemy \n",
        "system raportowy. Zanim jednak stworzymy dashboard, potrzebujemy zaktualizować naszą bazę danych."
      ]
    }
  ],
  "metadata": {
    "colab": {
      "provenance": []
    },
    "kernelspec": {
      "display_name": "Python 3.10.5 ('venv': venv)",
      "language": "python",
      "name": "python3"
    },
    "language_info": {
      "codemirror_mode": {
        "name": "ipython",
        "version": 3
      },
      "file_extension": ".py",
      "mimetype": "text/x-python",
      "name": "python",
      "nbconvert_exporter": "python",
      "pygments_lexer": "ipython3",
      "version": "3.10.5"
    },
    "orig_nbformat": 4,
    "vscode": {
      "interpreter": {
        "hash": "136089914e87e2d4f80cd8636e7ceb6fbad42888d13047c5eed4d3dfe8a58423"
      }
    }
  },
  "nbformat": 4,
  "nbformat_minor": 0
}

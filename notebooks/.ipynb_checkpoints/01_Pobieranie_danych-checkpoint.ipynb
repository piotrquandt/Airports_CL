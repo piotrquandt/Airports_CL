{
 "cells": [
  {
   "cell_type": "markdown",
   "metadata": {
    "id": "t0DZ7QM0cSq7"
   },
   "source": [
    " # Opis notatnika\n",
    "\n",
    " Ten notatnik inicjuje naszą pracę nad warsztatem końcowym. Naszym zadaniem tutaj jest pobranie udostępnionych nam danych do obszaru roboczego, które w następnym kroku wgramy na naszą bazę danych. Ich obróbka oraz analiza zostanie przeprowadzona w specjalnie do tego celu przygotowanych kolejnych notatnikach.\n",
    "\n",
    " Na potrzeby tego warsztatu został stworzony dedykowany serwis API, który dostępny jest pod adresem: https://api-datalab.coderslab.com/api/. Dodatkowo udostępniona została dokumentacja, z którą można zapoznać się tutaj: [klik](https://api-datalab.coderslab.com/docs/).\n",
    "\n",
    " > Dokumentacja jest czysto techniczna i ma na celu prezentację dostępnych endpointów wraz ze zwracanym typem. W celu przetestowania należy kliknąć przysisk `Authorize`, podać token (dostępny poniżej), a następnie `Try it out!` oraz uzupełnić wymagane pola (parametry requesta).\n",
    "\n",
    " Zgodnie z dokumentacją stwierdzamy, że udostępnione zostały nam 4 endpointy:\n",
    " - `airport` - dane o lotnisku,\n",
    " - `weather` - informacje o zarejestrowaniej pogodzie na lotnisku danego dnia,\n",
    " - `aircraft` - dane o samolotach\n",
    " - `flights` - dane o wylotach z danego lotniska per dzień.\n",
    "\n",
    " Wszystkie te źródła musimy pobrać, aby być w stanie wykonać całość warsztatu. W celu pobrania informacji, gdzie wymagany jest paramatr `airportId`, posłużymy się listą z pliku `airports.csv`.\n",
    "\n",
    " Przy wykonywaniu tego zadania możesz posłużyć się tym tokenem: `WpzDMZeeCq6tbPdsTHUX8W9mecuUVwXAnmcorefr`.\n",
    "\n",
    " ### Uwagi\n",
    " - Ze względów ćwiczeniowych, konstrukcja poszczególnych endpointów jest różna – w trakcie pracy dokładnie przyjrzyj się, w jaki sposób należy wykonać zapytanie, aby otrzymać odpowiedź.\n",
    " - Pamiętaj o dodaniu `sleep` pomiędzy poszczególnymi wywołaniami endpoint.\n",
    " - Limit wywołań API to 500/min, zadbaj o nieprzekroczenie tego limitu – w przeciwnym wypadku będzie zwracany błąd 429."
   ]
  },
  {
   "cell_type": "markdown",
   "metadata": {
    "id": "KfoENWKJcSq9"
   },
   "source": [
    " # Konfiguracja notatnika"
   ]
  },
  {
   "cell_type": "markdown",
   "metadata": {
    "id": "W9F120yecSq-"
   },
   "source": [
    " Tutaj zaimportuj wymagane biblioteki"
   ]
  },
  {
   "cell_type": "code",
   "execution_count": 1,
   "metadata": {
    "id": "WoyekjhTcSq_"
   },
   "outputs": [],
   "source": [
    "import requests\n",
    "import json\n",
    "from time import sleep\n",
    "import pandas as pd\n",
    "from datetime import datetime\n",
    "from dateutil.relativedelta import relativedelta"
   ]
  },
  {
   "cell_type": "markdown",
   "metadata": {
    "id": "xT_qqTgTcSq_"
   },
   "source": [
    " Tutaj zdefiniuj parametry połączenia do API"
   ]
  },
  {
   "cell_type": "code",
   "execution_count": 2,
   "metadata": {
    "id": "ZnX5NHdIcSrA"
   },
   "outputs": [],
   "source": [
    "api_key = \"WpzDMZeeCq6tbPdsTHUX8W9mecuUVwXAnmcorefr\"\n",
    "authorization = {'authorization': api_key}"
   ]
  },
  {
   "cell_type": "markdown",
   "metadata": {
    "id": "6qQIv0FYcSrA"
   },
   "source": [
    "Tutaj wczytaj plik `airports.csv` i dostosuj do dalszych kroków w celu pobierania z kolejnych endpointów. Lista lotnisk jest dostępna w kolumnie `origin_airport_id`."
   ]
  },
  {
   "cell_type": "code",
   "execution_count": 4,
   "metadata": {
    "id": "cch5SNo7cSrB"
   },
   "outputs": [
    {
     "data": {
      "text/html": [
       "<div>\n",
       "<style scoped>\n",
       "    .dataframe tbody tr th:only-of-type {\n",
       "        vertical-align: middle;\n",
       "    }\n",
       "\n",
       "    .dataframe tbody tr th {\n",
       "        vertical-align: top;\n",
       "    }\n",
       "\n",
       "    .dataframe thead th {\n",
       "        text-align: right;\n",
       "    }\n",
       "</style>\n",
       "<table border=\"1\" class=\"dataframe\">\n",
       "  <thead>\n",
       "    <tr style=\"text-align: right;\">\n",
       "      <th></th>\n",
       "      <th>origin_airport_id</th>\n",
       "    </tr>\n",
       "  </thead>\n",
       "  <tbody>\n",
       "    <tr>\n",
       "      <th>0</th>\n",
       "      <td>10874</td>\n",
       "    </tr>\n",
       "    <tr>\n",
       "      <th>1</th>\n",
       "      <td>11233</td>\n",
       "    </tr>\n",
       "    <tr>\n",
       "      <th>2</th>\n",
       "      <td>13360</td>\n",
       "    </tr>\n",
       "    <tr>\n",
       "      <th>3</th>\n",
       "      <td>15008</td>\n",
       "    </tr>\n",
       "    <tr>\n",
       "      <th>4</th>\n",
       "      <td>11638</td>\n",
       "    </tr>\n",
       "  </tbody>\n",
       "</table>\n",
       "</div>"
      ],
      "text/plain": [
       "   origin_airport_id\n",
       "0              10874\n",
       "1              11233\n",
       "2              13360\n",
       "3              15008\n",
       "4              11638"
      ]
     },
     "execution_count": 4,
     "metadata": {},
     "output_type": "execute_result"
    }
   ],
   "source": [
    "airports = pd.read_csv(\"/Users/Me/desktop/Airports_CL/data/airports.csv\")\n",
    "airports.head()"
   ]
  },
  {
   "cell_type": "markdown",
   "metadata": {},
   "source": [
    "#zamiana pliku csv w listę"
   ]
  },
  {
   "cell_type": "code",
   "execution_count": 5,
   "metadata": {},
   "outputs": [],
   "source": [
    "airports = pd.read_csv(\"/Users/Me/desktop/Airports_CL/data/airports.csv\", header = 0)\n",
    "airports_list = list(airports.origin_airport_id)"
   ]
  },
  {
   "cell_type": "markdown",
   "metadata": {},
   "source": [
    "#stworzenie pętli na podstawie 'airports_list' w cely ustalenia, które lotniska zwracają status połączenia = 200. Następnie stworzenie nowej listy 'true_airports', zawierającej tylko lotniska zwracające status połączenia = 200. "
   ]
  },
  {
   "cell_type": "code",
   "execution_count": 6,
   "metadata": {},
   "outputs": [],
   "source": [
    "url_airport = \"https://api-datalab.coderslab.com/api/airport/{airportID}\"\n",
    "airports_list = list(airports.origin_airport_id)\n",
    "true_airports = []\n",
    "\n",
    "for airportID in airports_list:\n",
    "    url = url_airport.replace(\"{airportID}\", str(airportID))\n",
    "    response = requests.get(url, headers = authorization)\n",
    "    \n",
    "    if response.status_code == 200:\n",
    "        true_airports.append(airportID)"
   ]
  },
  {
   "cell_type": "markdown",
   "metadata": {},
   "source": [
    "#stworzenie dictionary \"airport_df\""
   ]
  },
  {
   "cell_type": "code",
   "execution_count": 7,
   "metadata": {},
   "outputs": [
    {
     "name": "stdout",
     "output_type": "stream",
     "text": [
      "{11638: {'ORIGIN_AIRPORT_ID': 11638, 'DISPLAY_AIRPORT_NAME': 'Fresno Air Terminal', 'ORIGIN_CITY_NAME': 'Fresno, CA', 'NAME': 'FRESNO YOSEMITE INTERNATIONAL, CA US'}, 13342: {'ORIGIN_AIRPORT_ID': 13342, 'DISPLAY_AIRPORT_NAME': 'General Mitchell Field', 'ORIGIN_CITY_NAME': 'Milwaukee, WI', 'NAME': 'MILWAUKEE MITCHELL AIRPORT, WI US'}, 13244: {'ORIGIN_AIRPORT_ID': 13244, 'DISPLAY_AIRPORT_NAME': 'Memphis International', 'ORIGIN_CITY_NAME': 'Memphis, TN', 'NAME': 'MEMPHIS INTERNATIONAL AIRPORT, TN US'}, 15096: {'ORIGIN_AIRPORT_ID': 15096, 'DISPLAY_AIRPORT_NAME': 'Syracuse Hancock International', 'ORIGIN_CITY_NAME': 'Syracuse, NY', 'NAME': 'SYRACUSE HANCOCK INTERNATIONAL AIRPORT, NY US'}, 10397: {'ORIGIN_AIRPORT_ID': 10397, 'DISPLAY_AIRPORT_NAME': 'Atlanta Municipal', 'ORIGIN_CITY_NAME': 'Atlanta, GA', 'NAME': 'ATLANTA HARTSFIELD JACKSON INTERNATIONAL AIRPORT, GA US'}, 10529: {'ORIGIN_AIRPORT_ID': 10529, 'DISPLAY_AIRPORT_NAME': 'Bradley International', 'ORIGIN_CITY_NAME': 'Hartford, CT', 'NAME': 'HARTFORD BRADLEY INTERNATIONAL AIRPORT, CT US'}, 10140: {'ORIGIN_AIRPORT_ID': 10140, 'DISPLAY_AIRPORT_NAME': 'Albuquerque International Sunport', 'ORIGIN_CITY_NAME': 'Albuquerque, NM', 'NAME': 'ALBUQUERQUE INTERNATIONAL AIRPORT, NM US'}, 10792: {'ORIGIN_AIRPORT_ID': 10792, 'DISPLAY_AIRPORT_NAME': 'Greater Buffalo International', 'ORIGIN_CITY_NAME': 'Buffalo, NY', 'NAME': 'BUFFALO NIAGARA INTERNATIONAL, NY US'}, 10599: {'ORIGIN_AIRPORT_ID': 10599, 'DISPLAY_AIRPORT_NAME': 'Birmingham Airport', 'ORIGIN_CITY_NAME': 'Birmingham, AL', 'NAME': 'BIRMINGHAM AIRPORT, AL US'}, 14831: {'ORIGIN_AIRPORT_ID': 14831, 'DISPLAY_AIRPORT_NAME': 'San Jose International', 'ORIGIN_CITY_NAME': 'San Jose, CA', 'NAME': 'SAN JOSE INTERNATIONAL AIRPORT, CA US'}, 13931: {'ORIGIN_AIRPORT_ID': 13931, 'DISPLAY_AIRPORT_NAME': 'Norfolk International', 'ORIGIN_CITY_NAME': 'Norfolk, VA', 'NAME': 'NORFOLK INTERNATIONAL AIRPORT, VA US'}, 11292: {'ORIGIN_AIRPORT_ID': 11292, 'DISPLAY_AIRPORT_NAME': 'Stapleton International', 'ORIGIN_CITY_NAME': 'Denver, CO', 'NAME': 'DENVER INTERNATIONAL AIRPORT, CO US'}, 11259: {'ORIGIN_AIRPORT_ID': 11259, 'DISPLAY_AIRPORT_NAME': 'Dallas Love Field', 'ORIGIN_CITY_NAME': 'Dallas, TX', 'NAME': 'DALLAS FAA AIRPORT, TX US'}, 11996: {'ORIGIN_AIRPORT_ID': 11996, 'DISPLAY_AIRPORT_NAME': 'Greenville-Spartanburg', 'ORIGIN_CITY_NAME': 'Greer, SC', 'NAME': 'GREENVILLE DOWNTOWN AIRPORT, SC US'}, 11995: {'ORIGIN_AIRPORT_ID': 11995, 'DISPLAY_AIRPORT_NAME': 'Piedmont Triad International', 'ORIGIN_CITY_NAME': 'Greensboro/High Point, NC', 'NAME': 'GREENSBORO AIRPORT, NC US'}, 15016: {'ORIGIN_AIRPORT_ID': 15016, 'DISPLAY_AIRPORT_NAME': 'Lambert-St. Louis International', 'ORIGIN_CITY_NAME': 'St. Louis, MO', 'NAME': 'ST LOUIS LAMBERT INTERNATIONAL AIRPORT, MO US'}, 14730: {'ORIGIN_AIRPORT_ID': 14730, 'DISPLAY_AIRPORT_NAME': 'Standiford Field', 'ORIGIN_CITY_NAME': 'Louisville, KY', 'NAME': 'LOUISVILLE INTERNATIONAL AIRPORT, KY US'}, 12264: {'ORIGIN_AIRPORT_ID': 12264, 'DISPLAY_AIRPORT_NAME': 'Washington Dulles International', 'ORIGIN_CITY_NAME': 'Washington, DC', 'NAME': 'WASHINGTON DULLES INTERNATIONAL AIRPORT, VA US'}, 11618: {'ORIGIN_AIRPORT_ID': 11618, 'DISPLAY_AIRPORT_NAME': 'Newark Liberty International', 'ORIGIN_CITY_NAME': 'Newark, NJ', 'NAME': 'NEWARK LIBERTY INTERNATIONAL AIRPORT, NJ US'}, 15304: {'ORIGIN_AIRPORT_ID': 15304, 'DISPLAY_AIRPORT_NAME': 'Tampa International', 'ORIGIN_CITY_NAME': 'Tampa, FL', 'NAME': 'TAMPA INTERNATIONAL AIRPORT, FL US'}, 13577: {'ORIGIN_AIRPORT_ID': 13577, 'DISPLAY_AIRPORT_NAME': 'Minneapolis-St Paul International', 'ORIGIN_CITY_NAME': 'Minneapolis, MN', 'NAME': 'MINNEAPOLIS ST. PAUL INTERNATIONAL AIRPORT, MN US'}, 12954: {'ORIGIN_AIRPORT_ID': 12954, 'DISPLAY_AIRPORT_NAME': 'Long Beach Daugherty Field', 'ORIGIN_CITY_NAME': 'Long Beach, CA', 'NAME': 'LOS ANGELES INTERNATIONAL AIRPORT, CA US'}, 14057: {'ORIGIN_AIRPORT_ID': 14057, 'DISPLAY_AIRPORT_NAME': 'Portland International', 'ORIGIN_CITY_NAME': 'Portland, OR', 'NAME': 'PORTLAND INTERNATIONAL AIRPORT, OR US'}, 13232: {'ORIGIN_AIRPORT_ID': 13232, 'DISPLAY_AIRPORT_NAME': 'Chicago Midway International', 'ORIGIN_CITY_NAME': 'Chicago, IL', 'NAME': 'CHICAGO OHARE INTERNATIONAL AIRPORT, IL US'}, 10800: {'ORIGIN_AIRPORT_ID': 10800, 'DISPLAY_AIRPORT_NAME': 'Grenier Field/Manchester Municipal', 'ORIGIN_CITY_NAME': 'Manchester, NH', 'NAME': 'MANCHESTER AIRPORT, NH US'}, 10257: {'ORIGIN_AIRPORT_ID': 10257, 'DISPLAY_AIRPORT_NAME': 'Albany International', 'ORIGIN_CITY_NAME': 'Albany, NY', 'NAME': 'ALBANY INTERNATIONAL AIRPORT, NY US'}, 13796: {'ORIGIN_AIRPORT_ID': 13796, 'DISPLAY_AIRPORT_NAME': 'Metropolitan Oakland International', 'ORIGIN_CITY_NAME': 'Oakland, CA', 'NAME': 'SACRAMENTO METROPOLITAN AIRPORT, CA US'}, 14193: {'ORIGIN_AIRPORT_ID': 14193, 'DISPLAY_AIRPORT_NAME': 'Pensacola Regional', 'ORIGIN_CITY_NAME': 'Pensacola, FL', 'NAME': 'TALLAHASSEE REGIONAL AIRPORT, FL US'}, 15376: {'ORIGIN_AIRPORT_ID': 15376, 'DISPLAY_AIRPORT_NAME': 'Tucson International', 'ORIGIN_CITY_NAME': 'Tucson, AZ', 'NAME': 'PHOENIX AIRPORT, AZ US'}, 11884: {'ORIGIN_AIRPORT_ID': 11884, 'DISPLAY_AIRPORT_NAME': 'Spokane International', 'ORIGIN_CITY_NAME': 'Spokane, WA', 'NAME': 'SPOKANE INTERNATIONAL AIRPORT, WA US'}, 13851: {'ORIGIN_AIRPORT_ID': 13851, 'DISPLAY_AIRPORT_NAME': 'Will Rogers World', 'ORIGIN_CITY_NAME': 'Oklahoma City, OK', 'NAME': 'OKLAHOMA CITY WILL ROGERS WORLD AIRPORT, OK US'}, 14843: {'ORIGIN_AIRPORT_ID': 14843, 'DISPLAY_AIRPORT_NAME': 'Puerto Rico International', 'ORIGIN_CITY_NAME': 'San Juan, PR', 'NAME': 'SAN JUAN L M MARIN INTERNATIONAL AIRPORT, US'}, 15412: {'ORIGIN_AIRPORT_ID': 15412, 'DISPLAY_AIRPORT_NAME': 'McGhee Tyson', 'ORIGIN_CITY_NAME': 'Knoxville, TN', 'NAME': 'KNOXVILLE AIRPORT, TN US'}, 14107: {'ORIGIN_AIRPORT_ID': 14107, 'DISPLAY_AIRPORT_NAME': 'Phoenix Sky Harbor International', 'ORIGIN_CITY_NAME': 'Phoenix, AZ', 'NAME': 'PHOENIX AIRPORT, AZ US'}, 14747: {'ORIGIN_AIRPORT_ID': 14747, 'DISPLAY_AIRPORT_NAME': 'Seattle International', 'ORIGIN_CITY_NAME': 'Seattle, WA', 'NAME': 'SEATTLE TACOMA AIRPORT, WA US'}, 12889: {'ORIGIN_AIRPORT_ID': 12889, 'DISPLAY_AIRPORT_NAME': 'McCarran International', 'ORIGIN_CITY_NAME': 'Las Vegas, NV', 'NAME': 'MCCARRAN INTERNATIONAL AIRPORT, NV US'}, 14492: {'ORIGIN_AIRPORT_ID': 14492, 'DISPLAY_AIRPORT_NAME': 'Raleigh-Durham International', 'ORIGIN_CITY_NAME': 'Raleigh/Durham, NC', 'NAME': 'RALEIGH AIRPORT, NC US'}, 13204: {'ORIGIN_AIRPORT_ID': 13204, 'DISPLAY_AIRPORT_NAME': 'Orlando International', 'ORIGIN_CITY_NAME': 'Orlando, FL', 'NAME': 'ORLANDO INTERNATIONAL AIRPORT, FL US'}, 12992: {'ORIGIN_AIRPORT_ID': 12992, 'DISPLAY_AIRPORT_NAME': 'Adams Field', 'ORIGIN_CITY_NAME': 'Little Rock, AR', 'NAME': 'NORTH LITTLE ROCK AIRPORT, AR US'}, 13871: {'ORIGIN_AIRPORT_ID': 13871, 'DISPLAY_AIRPORT_NAME': 'Eppley Airfield', 'ORIGIN_CITY_NAME': 'Omaha, NE', 'NAME': 'GRAND ISLAND CENTRAL NE REGIONAL AIRPORT, NE US'}, 11066: {'ORIGIN_AIRPORT_ID': 11066, 'DISPLAY_AIRPORT_NAME': 'Port Columbus International', 'ORIGIN_CITY_NAME': 'Columbus, OH', 'NAME': 'COLUMBUS OHIO STATE UNIVERSITY AIRPORT, OH US'}, 13487: {'ORIGIN_AIRPORT_ID': 13487, 'DISPLAY_AIRPORT_NAME': 'Midland Regional Air Trml', 'ORIGIN_CITY_NAME': 'Midland/Odessa, TX', 'NAME': 'PORT ARTHUR SE TX REGIONAL AIRPORT, TX US'}, 10299: {'ORIGIN_AIRPORT_ID': 10299, 'DISPLAY_AIRPORT_NAME': 'Anchorage International', 'ORIGIN_CITY_NAME': 'Anchorage, AK', 'NAME': 'ANCHORAGE TED STEVENS INTERNATIONAL AIRPORT, AK US'}, 12339: {'ORIGIN_AIRPORT_ID': 12339, 'DISPLAY_AIRPORT_NAME': 'Indianapolis Muni/Weir Cook', 'ORIGIN_CITY_NAME': 'Indianapolis, IN', 'NAME': 'INDIANAPOLIS INTERNATIONAL AIRPORT, IN US'}, 12451: {'ORIGIN_AIRPORT_ID': 12451, 'DISPLAY_AIRPORT_NAME': 'Jacksonville International', 'ORIGIN_CITY_NAME': 'Jacksonville, FL', 'NAME': 'JACKSONVILLE INTERNATIONAL AIRPORT, FL US'}, 11423: {'ORIGIN_AIRPORT_ID': 11423, 'DISPLAY_AIRPORT_NAME': 'Des Moines Municipal', 'ORIGIN_CITY_NAME': 'Des Moines, IA', 'NAME': 'DES MOINES INTERNATIONAL AIRPORT, IA US'}, 11042: {'ORIGIN_AIRPORT_ID': 11042, 'DISPLAY_AIRPORT_NAME': 'Cleveland-Hopkins International', 'ORIGIN_CITY_NAME': 'Cleveland, OH', 'NAME': 'CLEVELAND HOPKINS INTERNATIONAL AIRPORT, OH US'}, 11278: {'ORIGIN_AIRPORT_ID': 11278, 'DISPLAY_AIRPORT_NAME': 'Ronald Reagan Washington National', 'ORIGIN_CITY_NAME': 'Washington, DC', 'NAME': 'WASHINGTON DULLES INTERNATIONAL AIRPORT, VA US'}, 14100: {'ORIGIN_AIRPORT_ID': 14100, 'DISPLAY_AIRPORT_NAME': 'Philadelphia International', 'ORIGIN_CITY_NAME': 'Philadelphia, PA', 'NAME': 'PHILADELPHIA INTERNATIONAL AIRPORT, PA US'}, 14321: {'ORIGIN_AIRPORT_ID': 14321, 'DISPLAY_AIRPORT_NAME': 'Portland International Jetport', 'ORIGIN_CITY_NAME': 'Portland, ME', 'NAME': 'PORTLAND JETPORT, ME US'}, 10821: {'ORIGIN_AIRPORT_ID': 10821, 'DISPLAY_AIRPORT_NAME': 'Friendship International', 'ORIGIN_CITY_NAME': 'Baltimore, MD', 'NAME': 'BALTIMORE WASHINGTON INTERNATIONAL AIRPORT, MD US'}, 10721: {'ORIGIN_AIRPORT_ID': 10721, 'DISPLAY_AIRPORT_NAME': 'Logan International', 'ORIGIN_CITY_NAME': 'Boston, MA', 'NAME': 'BOSTON, MA US'}, 12953: {'ORIGIN_AIRPORT_ID': 12953, 'DISPLAY_AIRPORT_NAME': 'LaGuardia', 'ORIGIN_CITY_NAME': 'New York, NY', 'NAME': 'LAGUARDIA AIRPORT, NY US'}, 14307: {'ORIGIN_AIRPORT_ID': 14307, 'DISPLAY_AIRPORT_NAME': 'Theodore Francis Green State', 'ORIGIN_CITY_NAME': 'Providence, RI', 'NAME': 'NEWPORT STATE AIRPORT, RI US'}, 14635: {'ORIGIN_AIRPORT_ID': 14635, 'DISPLAY_AIRPORT_NAME': 'Southwest Florida International', 'ORIGIN_CITY_NAME': 'Fort Myers, FL', 'NAME': 'FORT MYERS SW FLORIDA REGIONAL AIRPORT, FL US'}, 11267: {'ORIGIN_AIRPORT_ID': 11267, 'DISPLAY_AIRPORT_NAME': 'James M Cox/Dayton International', 'ORIGIN_CITY_NAME': 'Dayton, OH', 'NAME': 'DAYTON WRIGHT BROTHERS AIRPORT, OH US'}, 12758: {'ORIGIN_AIRPORT_ID': 12758, 'DISPLAY_AIRPORT_NAME': 'Keahole', 'ORIGIN_CITY_NAME': 'Kona, HI', 'NAME': 'KAILUA KONA KE AHOLE AIRPORT, HI US'}, 14576: {'ORIGIN_AIRPORT_ID': 14576, 'DISPLAY_AIRPORT_NAME': 'Rochester Monroe County', 'ORIGIN_CITY_NAME': 'Rochester, NY', 'NAME': 'ROCHESTER GREATER INTERNATIONAL, NY US'}, 12266: {'ORIGIN_AIRPORT_ID': 12266, 'DISPLAY_AIRPORT_NAME': 'Honolulu International', 'ORIGIN_CITY_NAME': 'Honolulu, HI', 'NAME': 'HONOLULU INTERNATIONAL AIRPORT, HI US'}, 12892: {'ORIGIN_AIRPORT_ID': 12892, 'DISPLAY_AIRPORT_NAME': 'Los Angeles International', 'ORIGIN_CITY_NAME': 'Los Angeles, CA', 'NAME': 'LOS ANGELES INTERNATIONAL AIRPORT, CA US'}, 14685: {'ORIGIN_AIRPORT_ID': 14685, 'DISPLAY_AIRPORT_NAME': 'Savannah/Hilton Head International', 'ORIGIN_CITY_NAME': 'Savannah, GA', 'NAME': 'SAVANNAH INTERNATIONAL AIRPORT, GA US'}, 11540: {'ORIGIN_AIRPORT_ID': 11540, 'DISPLAY_AIRPORT_NAME': 'El Paso International', 'ORIGIN_CITY_NAME': 'El Paso, TX', 'NAME': 'EL PASO INTERNATIONAL AIRPORT, TX US'}, 11697: {'ORIGIN_AIRPORT_ID': 11697, 'DISPLAY_AIRPORT_NAME': 'Fort Lauderdale-Hollywood International', 'ORIGIN_CITY_NAME': 'Fort Lauderdale, FL', 'NAME': 'FORT LAUDERDALE INTERNATIONAL AIRPORT, FL US'}, 14683: {'ORIGIN_AIRPORT_ID': 14683, 'DISPLAY_AIRPORT_NAME': 'San Antonio International', 'ORIGIN_CITY_NAME': 'San Antonio, TX', 'NAME': 'SAN ANTONIO INTERNATIONAL AIRPORT, TX US'}, 14524: {'ORIGIN_AIRPORT_ID': 14524, 'DISPLAY_AIRPORT_NAME': 'Richmond International', 'ORIGIN_CITY_NAME': 'Richmond, VA', 'NAME': 'RICHMOND INTERNATIONAL AIRPORT, VA US'}, 12173: {'ORIGIN_AIRPORT_ID': 12173, 'DISPLAY_AIRPORT_NAME': 'Hollywood-Burbank Midpoint', 'ORIGIN_CITY_NAME': 'Burbank, CA', 'NAME': 'LOS ANGELES INTERNATIONAL AIRPORT, CA US'}, 13891: {'ORIGIN_AIRPORT_ID': 13891, 'DISPLAY_AIRPORT_NAME': 'Ontario International', 'ORIGIN_CITY_NAME': 'Ontario, CA', 'NAME': 'LOS ANGELES INTERNATIONAL AIRPORT, CA US'}, 11433: {'ORIGIN_AIRPORT_ID': 11433, 'DISPLAY_AIRPORT_NAME': 'Detroit Metro Wayne County', 'ORIGIN_CITY_NAME': 'Detroit, MI', 'NAME': 'DETROIT METRO AIRPORT, MI US'}, 11298: {'ORIGIN_AIRPORT_ID': 11298, 'DISPLAY_AIRPORT_NAME': 'Dallas Fort Worth Regional', 'ORIGIN_CITY_NAME': 'Dallas/Fort Worth, TX', 'NAME': 'FORT WORTH MEACHAM FIELD, TX US'}, 14771: {'ORIGIN_AIRPORT_ID': 14771, 'DISPLAY_AIRPORT_NAME': 'San Francisco International', 'ORIGIN_CITY_NAME': 'San Francisco, CA', 'NAME': 'SAN FRANCISCO INTERNATIONAL AIRPORT, CA US'}, 11057: {'ORIGIN_AIRPORT_ID': 11057, 'DISPLAY_AIRPORT_NAME': 'Douglas Municipal', 'ORIGIN_CITY_NAME': 'Charlotte, NC', 'NAME': 'CHARLOTTE DOUGLAS AIRPORT, NC US'}, 14893: {'ORIGIN_AIRPORT_ID': 14893, 'DISPLAY_AIRPORT_NAME': 'Sacramento International', 'ORIGIN_CITY_NAME': 'Sacramento, CA', 'NAME': 'SACRAMENTO METROPOLITAN AIRPORT, CA US'}, 13495: {'ORIGIN_AIRPORT_ID': 13495, 'DISPLAY_AIRPORT_NAME': 'Louis Armstrong New Orleans International', 'ORIGIN_CITY_NAME': 'New Orleans, LA', 'NAME': 'NEW ORLEANS AIRPORT, LA US'}, 14908: {'ORIGIN_AIRPORT_ID': 14908, 'DISPLAY_AIRPORT_NAME': 'Orange County', 'ORIGIN_CITY_NAME': 'Santa Ana, CA', 'NAME': 'SANTA ANA JOHN WAYNE AIRPORT, CA US'}, 11986: {'ORIGIN_AIRPORT_ID': 11986, 'DISPLAY_AIRPORT_NAME': 'Kent County', 'ORIGIN_CITY_NAME': 'Grand Rapids, MI', 'NAME': 'GRAND RAPIDS GERALD R FORD INTERNATIONAL AIRPORT, MI US'}, 12191: {'ORIGIN_AIRPORT_ID': 12191, 'DISPLAY_AIRPORT_NAME': 'William P Hobby', 'ORIGIN_CITY_NAME': 'Houston, TX', 'NAME': 'HOUSTON WILLIAM P HOBBY AIRPORT, TX US'}, 14570: {'ORIGIN_AIRPORT_ID': 14570, 'DISPLAY_AIRPORT_NAME': 'Reno/Tahoe International', 'ORIGIN_CITY_NAME': 'Reno, NV', 'NAME': 'RENO AIRPORT, NV US'}, 14679: {'ORIGIN_AIRPORT_ID': 14679, 'DISPLAY_AIRPORT_NAME': 'San Diego International Lindbergh Fl', 'ORIGIN_CITY_NAME': 'San Diego, CA', 'NAME': 'SAN DIEGO INTERNATIONAL AIRPORT, CA US'}, 14869: {'ORIGIN_AIRPORT_ID': 14869, 'DISPLAY_AIRPORT_NAME': 'Salt Lake City International', 'ORIGIN_CITY_NAME': 'Salt Lake City, UT', 'NAME': 'SALT LAKE CITY INTERNATIONAL AIRPORT, UT US'}, 14027: {'ORIGIN_AIRPORT_ID': 14027, 'DISPLAY_AIRPORT_NAME': 'Palm Beach International', 'ORIGIN_CITY_NAME': 'West Palm Beach/Palm Beach, FL', 'NAME': 'WEST PALM BEACH INTERNATIONAL AIRPORT, FL US'}, 13485: {'ORIGIN_AIRPORT_ID': 13485, 'DISPLAY_AIRPORT_NAME': 'Truax Field', 'ORIGIN_CITY_NAME': 'Madison, WI', 'NAME': 'MADISON DANE CO REGIONAL AIRPORT, WI US'}, 14122: {'ORIGIN_AIRPORT_ID': 14122, 'DISPLAY_AIRPORT_NAME': 'Pittsburgh International', 'ORIGIN_CITY_NAME': 'Pittsburgh, PA', 'NAME': 'PITTSBURGH ALLEGHENY CO AIRPORT, PA US'}, 12982: {'ORIGIN_AIRPORT_ID': 12982, 'DISPLAY_AIRPORT_NAME': 'Lihue Airport', 'ORIGIN_CITY_NAME': 'Lihue, HI', 'NAME': 'LIHUE WEATHER SERVICE OFFICE AIRPORT 1020.1, HI US'}, 15919: {'ORIGIN_AIRPORT_ID': 15919, 'DISPLAY_AIRPORT_NAME': 'Northwest Arkansas Regional', 'ORIGIN_CITY_NAME': 'Fayetteville, AR', 'NAME': 'FAYETTEVILLE SPRINGDALE NW AR REGL AIRPORT, AR US'}, 12478: {'ORIGIN_AIRPORT_ID': 12478, 'DISPLAY_AIRPORT_NAME': 'John F. Kennedy International', 'ORIGIN_CITY_NAME': 'New York, NY', 'NAME': 'LAGUARDIA AIRPORT, NY US'}, 13830: {'ORIGIN_AIRPORT_ID': 13830, 'DISPLAY_AIRPORT_NAME': 'Kahului Airport', 'ORIGIN_CITY_NAME': 'Kahului, HI', 'NAME': 'HONOLULU INTERNATIONAL AIRPORT, HI US'}, 13930: {'ORIGIN_AIRPORT_ID': 13930, 'DISPLAY_AIRPORT_NAME': \"Chicago O'Hare International\", 'ORIGIN_CITY_NAME': 'Chicago, IL', 'NAME': 'CHICAGO OHARE INTERNATIONAL AIRPORT, IL US'}, 14262: {'ORIGIN_AIRPORT_ID': 14262, 'DISPLAY_AIRPORT_NAME': 'Palm Springs International', 'ORIGIN_CITY_NAME': 'Palm Springs, CA', 'NAME': 'DESERT RESORTS REGIONAL AIRPORT, CA US'}, 14761: {'ORIGIN_AIRPORT_ID': 14761, 'DISPLAY_AIRPORT_NAME': 'Sanford NAS', 'ORIGIN_CITY_NAME': 'Sanford, FL', 'NAME': 'TALLAHASSEE REGIONAL AIRPORT, FL US'}, 11193: {'ORIGIN_AIRPORT_ID': 11193, 'DISPLAY_AIRPORT_NAME': 'Cincinnati/Northern Kentucky International', 'ORIGIN_CITY_NAME': 'Cincinnati, OH', 'NAME': 'CINCINNATI MUNICIPAL AIRPORT LUNKEN FIELD, OH US'}, 10713: {'ORIGIN_AIRPORT_ID': 10713, 'DISPLAY_AIRPORT_NAME': 'Boise Air Terminal', 'ORIGIN_CITY_NAME': 'Boise, ID', 'NAME': 'BOISE AIR TERMINAL, ID US'}, 10994: {'ORIGIN_AIRPORT_ID': 10994, 'DISPLAY_AIRPORT_NAME': 'Charleston International', 'ORIGIN_CITY_NAME': 'Charleston, SC', 'NAME': 'CHARLESTON INTL. AIRPORT, SC US'}, 13198: {'ORIGIN_AIRPORT_ID': 13198, 'DISPLAY_AIRPORT_NAME': 'Kansas City International', 'ORIGIN_CITY_NAME': 'Kansas City, MO', 'NAME': 'KANSAS CITY INTERNATIONAL AIRPORT, MO US'}, 10423: {'ORIGIN_AIRPORT_ID': 10423, 'DISPLAY_AIRPORT_NAME': 'Austin - Bergstrom International', 'ORIGIN_CITY_NAME': 'Austin, TX', 'NAME': 'AUSTIN BERGSTROM INTERNATIONAL AIRPORT, TX US'}, 15370: {'ORIGIN_AIRPORT_ID': 15370, 'DISPLAY_AIRPORT_NAME': 'Tulsa International', 'ORIGIN_CITY_NAME': 'Tulsa, OK', 'NAME': 'OKLAHOMA CITY WILL ROGERS WORLD AIRPORT, OK US'}, 13303: {'ORIGIN_AIRPORT_ID': 13303, 'DISPLAY_AIRPORT_NAME': 'Miami International', 'ORIGIN_CITY_NAME': 'Miami, FL', 'NAME': 'MIAMI INTERNATIONAL AIRPORT, FL US'}, 10693: {'ORIGIN_AIRPORT_ID': 10693, 'DISPLAY_AIRPORT_NAME': 'Myrtle Beach International', 'ORIGIN_CITY_NAME': 'Myrtle Beach, SC', 'NAME': 'NORTH MYRTLE BEACH, SC US'}}\n"
     ]
    }
   ],
   "source": [
    "airport_df = {}\n",
    "\n",
    "for airportID in true_airports:\n",
    "    url = url_airport.replace(\"{airportID}\", str(airportID))\n",
    "    response = requests.get(url, headers = authorization)\n",
    "    \n",
    "    if response.status_code == 200:\n",
    "        airport_data = response.json()\n",
    "        airport_df[airportID] = airport_data\n",
    "    \n",
    "print(airport_df)"
   ]
  },
  {
   "cell_type": "markdown",
   "metadata": {
    "id": "nl2wpRlFcSrB"
   },
   "source": [
    " # Pobieranie `Airport`\n",
    " Zapoznaj się z dokumentacją endpointu `airport`, a następnie pobierz dane dot. poszczególnych lotnisk. Wyniki tego kroku zapisz do ramki `airport_df`, a następnie zapisz do pliku `csv`.\n",
    "\n",
    " ### Wskazówki\n",
    " - Nie wszystkie lotniska dostępne w pliku `airports.csv`, są dostępne w endpoint. Zadbaj o odpowiednie obsłużenie takiej sytuacji,\n",
    " - Do skonwertowania wyników przydatna może okazać się metoda `Pandas` - [from_records](https://pandas.pydata.org/docs/reference/api/pandas.DataFrame.from_records.html),\n",
    " - Artykuł LMS: `Python - analiza danych > Dzień 4 - API > Uwierzytelnianie`\n",
    " - Artykuł LMS: `Python - analiza danych > Przygotowanie do zjazdu 2`"
   ]
  },
  {
   "cell_type": "markdown",
   "metadata": {
    "id": "0BFT2Q6LcSrC"
   },
   "source": [
    " Tutaj pobierz dane z endpoint'u `airport`"
   ]
  },
  {
   "cell_type": "markdown",
   "metadata": {
    "id": "LU15PHoucsWC"
   },
   "source": [
    "#sprawdzenie połączenia"
   ]
  },
  {
   "cell_type": "code",
   "execution_count": 8,
   "metadata": {},
   "outputs": [
    {
     "data": {
      "text/plain": [
       "400"
      ]
     },
     "execution_count": 8,
     "metadata": {},
     "output_type": "execute_result"
    }
   ],
   "source": [
    "url_airport = \"https://api-datalab.coderslab.com/api/airport/{airportID}\"\n",
    "response = requests.get(url_airport, headers = authorization)\n",
    "response.status_code"
   ]
  },
  {
   "cell_type": "markdown",
   "metadata": {},
   "source": [
    "#stworzenie DataFrame \"airport_df\" na podstawie dictionary \"airport_df\""
   ]
  },
  {
   "cell_type": "code",
   "execution_count": 9,
   "metadata": {},
   "outputs": [
    {
     "data": {
      "text/html": [
       "<div>\n",
       "<style scoped>\n",
       "    .dataframe tbody tr th:only-of-type {\n",
       "        vertical-align: middle;\n",
       "    }\n",
       "\n",
       "    .dataframe tbody tr th {\n",
       "        vertical-align: top;\n",
       "    }\n",
       "\n",
       "    .dataframe thead th {\n",
       "        text-align: right;\n",
       "    }\n",
       "</style>\n",
       "<table border=\"1\" class=\"dataframe\">\n",
       "  <thead>\n",
       "    <tr style=\"text-align: right;\">\n",
       "      <th></th>\n",
       "      <th>ORIGIN_AIRPORT_ID</th>\n",
       "      <th>DISPLAY_AIRPORT_NAME</th>\n",
       "      <th>ORIGIN_CITY_NAME</th>\n",
       "      <th>NAME</th>\n",
       "    </tr>\n",
       "  </thead>\n",
       "  <tbody>\n",
       "    <tr>\n",
       "      <th>10140</th>\n",
       "      <td>10140</td>\n",
       "      <td>Albuquerque International Sunport</td>\n",
       "      <td>Albuquerque, NM</td>\n",
       "      <td>ALBUQUERQUE INTERNATIONAL AIRPORT, NM US</td>\n",
       "    </tr>\n",
       "    <tr>\n",
       "      <th>10257</th>\n",
       "      <td>10257</td>\n",
       "      <td>Albany International</td>\n",
       "      <td>Albany, NY</td>\n",
       "      <td>ALBANY INTERNATIONAL AIRPORT, NY US</td>\n",
       "    </tr>\n",
       "    <tr>\n",
       "      <th>10299</th>\n",
       "      <td>10299</td>\n",
       "      <td>Anchorage International</td>\n",
       "      <td>Anchorage, AK</td>\n",
       "      <td>ANCHORAGE TED STEVENS INTERNATIONAL AIRPORT, A...</td>\n",
       "    </tr>\n",
       "    <tr>\n",
       "      <th>10397</th>\n",
       "      <td>10397</td>\n",
       "      <td>Atlanta Municipal</td>\n",
       "      <td>Atlanta, GA</td>\n",
       "      <td>ATLANTA HARTSFIELD JACKSON INTERNATIONAL AIRPO...</td>\n",
       "    </tr>\n",
       "    <tr>\n",
       "      <th>10423</th>\n",
       "      <td>10423</td>\n",
       "      <td>Austin - Bergstrom International</td>\n",
       "      <td>Austin, TX</td>\n",
       "      <td>AUSTIN BERGSTROM INTERNATIONAL AIRPORT, TX US</td>\n",
       "    </tr>\n",
       "    <tr>\n",
       "      <th>...</th>\n",
       "      <td>...</td>\n",
       "      <td>...</td>\n",
       "      <td>...</td>\n",
       "      <td>...</td>\n",
       "    </tr>\n",
       "    <tr>\n",
       "      <th>15304</th>\n",
       "      <td>15304</td>\n",
       "      <td>Tampa International</td>\n",
       "      <td>Tampa, FL</td>\n",
       "      <td>TAMPA INTERNATIONAL AIRPORT, FL US</td>\n",
       "    </tr>\n",
       "    <tr>\n",
       "      <th>15370</th>\n",
       "      <td>15370</td>\n",
       "      <td>Tulsa International</td>\n",
       "      <td>Tulsa, OK</td>\n",
       "      <td>OKLAHOMA CITY WILL ROGERS WORLD AIRPORT, OK US</td>\n",
       "    </tr>\n",
       "    <tr>\n",
       "      <th>15376</th>\n",
       "      <td>15376</td>\n",
       "      <td>Tucson International</td>\n",
       "      <td>Tucson, AZ</td>\n",
       "      <td>PHOENIX AIRPORT, AZ US</td>\n",
       "    </tr>\n",
       "    <tr>\n",
       "      <th>15412</th>\n",
       "      <td>15412</td>\n",
       "      <td>McGhee Tyson</td>\n",
       "      <td>Knoxville, TN</td>\n",
       "      <td>KNOXVILLE AIRPORT, TN US</td>\n",
       "    </tr>\n",
       "    <tr>\n",
       "      <th>15919</th>\n",
       "      <td>15919</td>\n",
       "      <td>Northwest Arkansas Regional</td>\n",
       "      <td>Fayetteville, AR</td>\n",
       "      <td>FAYETTEVILLE SPRINGDALE NW AR REGL AIRPORT, AR US</td>\n",
       "    </tr>\n",
       "  </tbody>\n",
       "</table>\n",
       "<p>97 rows × 4 columns</p>\n",
       "</div>"
      ],
      "text/plain": [
       "      ORIGIN_AIRPORT_ID               DISPLAY_AIRPORT_NAME  ORIGIN_CITY_NAME  \\\n",
       "10140             10140  Albuquerque International Sunport   Albuquerque, NM   \n",
       "10257             10257               Albany International        Albany, NY   \n",
       "10299             10299            Anchorage International     Anchorage, AK   \n",
       "10397             10397                  Atlanta Municipal       Atlanta, GA   \n",
       "10423             10423   Austin - Bergstrom International        Austin, TX   \n",
       "...                 ...                                ...               ...   \n",
       "15304             15304                Tampa International         Tampa, FL   \n",
       "15370             15370                Tulsa International         Tulsa, OK   \n",
       "15376             15376               Tucson International        Tucson, AZ   \n",
       "15412             15412                       McGhee Tyson     Knoxville, TN   \n",
       "15919             15919        Northwest Arkansas Regional  Fayetteville, AR   \n",
       "\n",
       "                                                    NAME  \n",
       "10140           ALBUQUERQUE INTERNATIONAL AIRPORT, NM US  \n",
       "10257                ALBANY INTERNATIONAL AIRPORT, NY US  \n",
       "10299  ANCHORAGE TED STEVENS INTERNATIONAL AIRPORT, A...  \n",
       "10397  ATLANTA HARTSFIELD JACKSON INTERNATIONAL AIRPO...  \n",
       "10423      AUSTIN BERGSTROM INTERNATIONAL AIRPORT, TX US  \n",
       "...                                                  ...  \n",
       "15304                 TAMPA INTERNATIONAL AIRPORT, FL US  \n",
       "15370     OKLAHOMA CITY WILL ROGERS WORLD AIRPORT, OK US  \n",
       "15376                             PHOENIX AIRPORT, AZ US  \n",
       "15412                           KNOXVILLE AIRPORT, TN US  \n",
       "15919  FAYETTEVILLE SPRINGDALE NW AR REGL AIRPORT, AR US  \n",
       "\n",
       "[97 rows x 4 columns]"
      ]
     },
     "execution_count": 9,
     "metadata": {},
     "output_type": "execute_result"
    }
   ],
   "source": [
    "airport_df = pd.DataFrame.from_records(airport_df)\n",
    "airport_df = airport_df.transpose() #odwrócenie tabeli\n",
    "airport_df"
   ]
  },
  {
   "cell_type": "markdown",
   "metadata": {
    "id": "PBYU4uZIcSrC"
   },
   "source": [
    " ## Sprawdzenie\n",
    " Uruchom kod poniżej, aby sprawdzić, czy ta część została poprawnie wykonana."
   ]
  },
  {
   "cell_type": "code",
   "execution_count": 10,
   "metadata": {
    "colab": {
     "base_uri": "https://localhost:8080/",
     "height": 183
    },
    "id": "v_uYoqUxcSrD",
    "outputId": "99974b89-87c9-4ced-cb20-3830cda40085"
   },
   "outputs": [],
   "source": [
    "airport_df_expected_shape = (97, 4)\n",
    "assert airport_df_expected_shape == airport_df.shape"
   ]
  },
  {
   "cell_type": "markdown",
   "metadata": {},
   "source": [
    "działa :)"
   ]
  },
  {
   "cell_type": "markdown",
   "metadata": {
    "id": "VM2aiFNgcSrD"
   },
   "source": [
    " Tutaj zapisz ramkę `airport_df` do pliku `airport_list.csv`."
   ]
  },
  {
   "cell_type": "code",
   "execution_count": 11,
   "metadata": {
    "id": "kX0YVty_cSrE"
   },
   "outputs": [],
   "source": [
    "airport_df.to_csv(\"/Users/Me/desktop/Airports_CL/data/raw/airport_list.csv\", index=False)"
   ]
  },
  {
   "cell_type": "markdown",
   "metadata": {
    "id": "WFFoDzkMcSrE"
   },
   "source": [
    " # Pobieranie `Weather`\n",
    " Zapoznaj się z dokumentacją endpotu `Weather`, następnie pobierz dane dotyczące zarejestrowanej pogody na poszczególnych lotniskach. Wyniki zapisz do ramki `weather_df`, a później do pliku `airport_weather.csv`.\n",
    "\n",
    " Wskazówki:\n",
    " - Ze względu na wolumen danych, które tutaj się pobiorą, odradzamy zapisywanie danych bezpośrednio do ramki. Rekomendujemy podejście podobne do tego z warsztatu na kursie `Python - analiza danych` - `Dzień 10 - Warsztat > Warsztat > Scrapowanie danych`, czyli stworzenie listy, a następnie przekonwertowanie jej w postać ramki.\n",
    " - Data początkowa danych to `2019-01-01`, zaś data końcowa to `2020-03-31`, czyli 15 miesięcy,\n",
    " - Ze względu na czas, jaki ten krok będzie się wykonywał, warto dodać w pętli instrukcję (lub kilka) `print`, aby monitorować przebieg wykonywania tego kroku.\n",
    " - Przy dodawaniu miesięcy do daty może przydać się metoda [relativedelta](https://www.geeksforgeeks.org/python-get-month-from-year-and-weekday/)."
   ]
  },
  {
   "cell_type": "markdown",
   "metadata": {},
   "source": [
    "#sprawdzenie połączenia"
   ]
  },
  {
   "cell_type": "code",
   "execution_count": 3,
   "metadata": {},
   "outputs": [
    {
     "data": {
      "text/plain": [
       "200"
      ]
     },
     "execution_count": 3,
     "metadata": {},
     "output_type": "execute_result"
    }
   ],
   "source": [
    "url_weather = \"https://api-datalab.coderslab.com/api/airportWeather?date={value}\"\n",
    "response = requests.get(url_weather, headers = authorization)\n",
    "response.status_code"
   ]
  },
  {
   "cell_type": "markdown",
   "metadata": {},
   "source": [
    "#stworzenie listy dat"
   ]
  },
  {
   "cell_type": "code",
   "execution_count": 4,
   "metadata": {},
   "outputs": [
    {
     "name": "stdout",
     "output_type": "stream",
     "text": [
      "['2019-01', '2019-02', '2019-03', '2019-04', '2019-05', '2019-06', '2019-07', '2019-08', '2019-09', '2019-10', '2019-11', '2019-12', '2020-01', '2020-02', '2020-03']\n"
     ]
    }
   ],
   "source": [
    "from datetime import datetime, timedelta\n",
    "\n",
    "start_date = datetime(2019, 1, 1)\n",
    "num_months = 15\n",
    "\n",
    "dates = []\n",
    "\n",
    "for i in range(num_months):\n",
    "    dates.append(start_date.strftime(\"%Y-%m\"))\n",
    "    if start_date.month == 12:\n",
    "        start_date = start_date.replace(year=start_date.year + 1, month=1)\n",
    "    else:\n",
    "        start_date = start_date.replace(month=start_date.month + 1)\n",
    "\n",
    "print(dates)"
   ]
  },
  {
   "cell_type": "markdown",
   "metadata": {},
   "source": [
    "#pobieranie danych z API w formacie json / print(dates) dla sprawdzenia progresu"
   ]
  },
  {
   "cell_type": "code",
   "execution_count": 5,
   "metadata": {},
   "outputs": [
    {
     "name": "stdout",
     "output_type": "stream",
     "text": [
      "2019-01\n"
     ]
    },
    {
     "name": "stderr",
     "output_type": "stream",
     "text": [
      "/var/folders/5w/n4j85_qn65vg8_tq2dsjly100000gn/T/ipykernel_7841/71197393.py:8: FutureWarning: The frame.append method is deprecated and will be removed from pandas in a future version. Use pandas.concat instead.\n",
      "  airport_weather_df = airport_weather_df.append(df_single_w)\n"
     ]
    },
    {
     "name": "stdout",
     "output_type": "stream",
     "text": [
      "2019-02\n"
     ]
    },
    {
     "name": "stderr",
     "output_type": "stream",
     "text": [
      "/var/folders/5w/n4j85_qn65vg8_tq2dsjly100000gn/T/ipykernel_7841/71197393.py:8: FutureWarning: The frame.append method is deprecated and will be removed from pandas in a future version. Use pandas.concat instead.\n",
      "  airport_weather_df = airport_weather_df.append(df_single_w)\n"
     ]
    },
    {
     "name": "stdout",
     "output_type": "stream",
     "text": [
      "2019-03\n"
     ]
    },
    {
     "name": "stderr",
     "output_type": "stream",
     "text": [
      "/var/folders/5w/n4j85_qn65vg8_tq2dsjly100000gn/T/ipykernel_7841/71197393.py:8: FutureWarning: The frame.append method is deprecated and will be removed from pandas in a future version. Use pandas.concat instead.\n",
      "  airport_weather_df = airport_weather_df.append(df_single_w)\n"
     ]
    },
    {
     "name": "stdout",
     "output_type": "stream",
     "text": [
      "2019-04\n"
     ]
    },
    {
     "name": "stderr",
     "output_type": "stream",
     "text": [
      "/var/folders/5w/n4j85_qn65vg8_tq2dsjly100000gn/T/ipykernel_7841/71197393.py:8: FutureWarning: The frame.append method is deprecated and will be removed from pandas in a future version. Use pandas.concat instead.\n",
      "  airport_weather_df = airport_weather_df.append(df_single_w)\n"
     ]
    },
    {
     "name": "stdout",
     "output_type": "stream",
     "text": [
      "2019-05\n"
     ]
    },
    {
     "name": "stderr",
     "output_type": "stream",
     "text": [
      "/var/folders/5w/n4j85_qn65vg8_tq2dsjly100000gn/T/ipykernel_7841/71197393.py:8: FutureWarning: The frame.append method is deprecated and will be removed from pandas in a future version. Use pandas.concat instead.\n",
      "  airport_weather_df = airport_weather_df.append(df_single_w)\n"
     ]
    },
    {
     "name": "stdout",
     "output_type": "stream",
     "text": [
      "2019-06\n"
     ]
    },
    {
     "name": "stderr",
     "output_type": "stream",
     "text": [
      "/var/folders/5w/n4j85_qn65vg8_tq2dsjly100000gn/T/ipykernel_7841/71197393.py:8: FutureWarning: The frame.append method is deprecated and will be removed from pandas in a future version. Use pandas.concat instead.\n",
      "  airport_weather_df = airport_weather_df.append(df_single_w)\n"
     ]
    },
    {
     "name": "stdout",
     "output_type": "stream",
     "text": [
      "2019-07\n"
     ]
    },
    {
     "name": "stderr",
     "output_type": "stream",
     "text": [
      "/var/folders/5w/n4j85_qn65vg8_tq2dsjly100000gn/T/ipykernel_7841/71197393.py:8: FutureWarning: The frame.append method is deprecated and will be removed from pandas in a future version. Use pandas.concat instead.\n",
      "  airport_weather_df = airport_weather_df.append(df_single_w)\n"
     ]
    },
    {
     "name": "stdout",
     "output_type": "stream",
     "text": [
      "2019-08\n"
     ]
    },
    {
     "name": "stderr",
     "output_type": "stream",
     "text": [
      "/var/folders/5w/n4j85_qn65vg8_tq2dsjly100000gn/T/ipykernel_7841/71197393.py:8: FutureWarning: The frame.append method is deprecated and will be removed from pandas in a future version. Use pandas.concat instead.\n",
      "  airport_weather_df = airport_weather_df.append(df_single_w)\n"
     ]
    },
    {
     "name": "stdout",
     "output_type": "stream",
     "text": [
      "2019-09\n"
     ]
    },
    {
     "name": "stderr",
     "output_type": "stream",
     "text": [
      "/var/folders/5w/n4j85_qn65vg8_tq2dsjly100000gn/T/ipykernel_7841/71197393.py:8: FutureWarning: The frame.append method is deprecated and will be removed from pandas in a future version. Use pandas.concat instead.\n",
      "  airport_weather_df = airport_weather_df.append(df_single_w)\n"
     ]
    },
    {
     "name": "stdout",
     "output_type": "stream",
     "text": [
      "2019-10\n"
     ]
    },
    {
     "name": "stderr",
     "output_type": "stream",
     "text": [
      "/var/folders/5w/n4j85_qn65vg8_tq2dsjly100000gn/T/ipykernel_7841/71197393.py:8: FutureWarning: The frame.append method is deprecated and will be removed from pandas in a future version. Use pandas.concat instead.\n",
      "  airport_weather_df = airport_weather_df.append(df_single_w)\n"
     ]
    },
    {
     "name": "stdout",
     "output_type": "stream",
     "text": [
      "2019-11\n"
     ]
    },
    {
     "name": "stderr",
     "output_type": "stream",
     "text": [
      "/var/folders/5w/n4j85_qn65vg8_tq2dsjly100000gn/T/ipykernel_7841/71197393.py:8: FutureWarning: The frame.append method is deprecated and will be removed from pandas in a future version. Use pandas.concat instead.\n",
      "  airport_weather_df = airport_weather_df.append(df_single_w)\n"
     ]
    },
    {
     "name": "stdout",
     "output_type": "stream",
     "text": [
      "2019-12\n"
     ]
    },
    {
     "name": "stderr",
     "output_type": "stream",
     "text": [
      "/var/folders/5w/n4j85_qn65vg8_tq2dsjly100000gn/T/ipykernel_7841/71197393.py:8: FutureWarning: The frame.append method is deprecated and will be removed from pandas in a future version. Use pandas.concat instead.\n",
      "  airport_weather_df = airport_weather_df.append(df_single_w)\n"
     ]
    },
    {
     "name": "stdout",
     "output_type": "stream",
     "text": [
      "2020-01\n"
     ]
    },
    {
     "name": "stderr",
     "output_type": "stream",
     "text": [
      "/var/folders/5w/n4j85_qn65vg8_tq2dsjly100000gn/T/ipykernel_7841/71197393.py:8: FutureWarning: The frame.append method is deprecated and will be removed from pandas in a future version. Use pandas.concat instead.\n",
      "  airport_weather_df = airport_weather_df.append(df_single_w)\n"
     ]
    },
    {
     "name": "stdout",
     "output_type": "stream",
     "text": [
      "2020-02\n"
     ]
    },
    {
     "name": "stderr",
     "output_type": "stream",
     "text": [
      "/var/folders/5w/n4j85_qn65vg8_tq2dsjly100000gn/T/ipykernel_7841/71197393.py:8: FutureWarning: The frame.append method is deprecated and will be removed from pandas in a future version. Use pandas.concat instead.\n",
      "  airport_weather_df = airport_weather_df.append(df_single_w)\n"
     ]
    },
    {
     "name": "stdout",
     "output_type": "stream",
     "text": [
      "2020-03\n"
     ]
    },
    {
     "name": "stderr",
     "output_type": "stream",
     "text": [
      "/var/folders/5w/n4j85_qn65vg8_tq2dsjly100000gn/T/ipykernel_7841/71197393.py:8: FutureWarning: The frame.append method is deprecated and will be removed from pandas in a future version. Use pandas.concat instead.\n",
      "  airport_weather_df = airport_weather_df.append(df_single_w)\n"
     ]
    }
   ],
   "source": [
    "airport_weather_df = pd.DataFrame()\n",
    "for date in dates:\n",
    "    url = url_weather.replace(\"{value}\", str(date))\n",
    "    response = requests.get(url, headers = authorization)\n",
    "    print(str(date))\n",
    "    data = response.json()\n",
    "    df_single_w = pd.json_normalize(data)\n",
    "    airport_weather_df = airport_weather_df.append(df_single_w)"
   ]
  },
  {
   "cell_type": "code",
   "execution_count": 6,
   "metadata": {},
   "outputs": [
    {
     "data": {
      "text/html": [
       "<div>\n",
       "<style scoped>\n",
       "    .dataframe tbody tr th:only-of-type {\n",
       "        vertical-align: middle;\n",
       "    }\n",
       "\n",
       "    .dataframe tbody tr th {\n",
       "        vertical-align: top;\n",
       "    }\n",
       "\n",
       "    .dataframe thead th {\n",
       "        text-align: right;\n",
       "    }\n",
       "</style>\n",
       "<table border=\"1\" class=\"dataframe\">\n",
       "  <thead>\n",
       "    <tr style=\"text-align: right;\">\n",
       "      <th></th>\n",
       "      <th>WT18</th>\n",
       "      <th>STATION</th>\n",
       "      <th>NAME</th>\n",
       "      <th>DATE</th>\n",
       "      <th>AWND</th>\n",
       "      <th>PRCP</th>\n",
       "      <th>SNOW</th>\n",
       "      <th>SNWD</th>\n",
       "      <th>TAVG</th>\n",
       "      <th>TMAX</th>\n",
       "      <th>...</th>\n",
       "      <th>PGTM</th>\n",
       "      <th>WT10</th>\n",
       "      <th>WESD</th>\n",
       "      <th>SN32</th>\n",
       "      <th>SX32</th>\n",
       "      <th>PSUN</th>\n",
       "      <th>TSUN</th>\n",
       "      <th>TOBS</th>\n",
       "      <th>WT07</th>\n",
       "      <th>WT11</th>\n",
       "    </tr>\n",
       "  </thead>\n",
       "  <tbody>\n",
       "    <tr>\n",
       "      <th>0</th>\n",
       "      <td>None</td>\n",
       "      <td>USW00013874</td>\n",
       "      <td>ATLANTA HARTSFIELD JACKSON INTERNATIONAL AIRPO...</td>\n",
       "      <td>2019-01-01</td>\n",
       "      <td>4.70</td>\n",
       "      <td>0.14</td>\n",
       "      <td>0.0</td>\n",
       "      <td>0.0</td>\n",
       "      <td>64.0</td>\n",
       "      <td>66.0</td>\n",
       "      <td>...</td>\n",
       "      <td>NaN</td>\n",
       "      <td>NaN</td>\n",
       "      <td>NaN</td>\n",
       "      <td>NaN</td>\n",
       "      <td>NaN</td>\n",
       "      <td>NaN</td>\n",
       "      <td>NaN</td>\n",
       "      <td>NaN</td>\n",
       "      <td>NaN</td>\n",
       "      <td>NaN</td>\n",
       "    </tr>\n",
       "    <tr>\n",
       "      <th>1</th>\n",
       "      <td>None</td>\n",
       "      <td>USW00013874</td>\n",
       "      <td>ATLANTA HARTSFIELD JACKSON INTERNATIONAL AIRPO...</td>\n",
       "      <td>2019-01-02</td>\n",
       "      <td>4.92</td>\n",
       "      <td>0.57</td>\n",
       "      <td>0.0</td>\n",
       "      <td>0.0</td>\n",
       "      <td>56.0</td>\n",
       "      <td>59.0</td>\n",
       "      <td>...</td>\n",
       "      <td>NaN</td>\n",
       "      <td>NaN</td>\n",
       "      <td>NaN</td>\n",
       "      <td>NaN</td>\n",
       "      <td>NaN</td>\n",
       "      <td>NaN</td>\n",
       "      <td>NaN</td>\n",
       "      <td>NaN</td>\n",
       "      <td>NaN</td>\n",
       "      <td>NaN</td>\n",
       "    </tr>\n",
       "    <tr>\n",
       "      <th>2</th>\n",
       "      <td>None</td>\n",
       "      <td>USW00013874</td>\n",
       "      <td>ATLANTA HARTSFIELD JACKSON INTERNATIONAL AIRPO...</td>\n",
       "      <td>2019-01-03</td>\n",
       "      <td>5.37</td>\n",
       "      <td>0.15</td>\n",
       "      <td>0.0</td>\n",
       "      <td>0.0</td>\n",
       "      <td>52.0</td>\n",
       "      <td>55.0</td>\n",
       "      <td>...</td>\n",
       "      <td>NaN</td>\n",
       "      <td>NaN</td>\n",
       "      <td>NaN</td>\n",
       "      <td>NaN</td>\n",
       "      <td>NaN</td>\n",
       "      <td>NaN</td>\n",
       "      <td>NaN</td>\n",
       "      <td>NaN</td>\n",
       "      <td>NaN</td>\n",
       "      <td>NaN</td>\n",
       "    </tr>\n",
       "    <tr>\n",
       "      <th>3</th>\n",
       "      <td>None</td>\n",
       "      <td>USW00013874</td>\n",
       "      <td>ATLANTA HARTSFIELD JACKSON INTERNATIONAL AIRPO...</td>\n",
       "      <td>2019-01-04</td>\n",
       "      <td>12.08</td>\n",
       "      <td>1.44</td>\n",
       "      <td>0.0</td>\n",
       "      <td>0.0</td>\n",
       "      <td>56.0</td>\n",
       "      <td>66.0</td>\n",
       "      <td>...</td>\n",
       "      <td>NaN</td>\n",
       "      <td>NaN</td>\n",
       "      <td>NaN</td>\n",
       "      <td>NaN</td>\n",
       "      <td>NaN</td>\n",
       "      <td>NaN</td>\n",
       "      <td>NaN</td>\n",
       "      <td>NaN</td>\n",
       "      <td>NaN</td>\n",
       "      <td>NaN</td>\n",
       "    </tr>\n",
       "    <tr>\n",
       "      <th>4</th>\n",
       "      <td>None</td>\n",
       "      <td>USW00013874</td>\n",
       "      <td>ATLANTA HARTSFIELD JACKSON INTERNATIONAL AIRPO...</td>\n",
       "      <td>2019-01-05</td>\n",
       "      <td>13.42</td>\n",
       "      <td>0.00</td>\n",
       "      <td>0.0</td>\n",
       "      <td>0.0</td>\n",
       "      <td>49.0</td>\n",
       "      <td>59.0</td>\n",
       "      <td>...</td>\n",
       "      <td>NaN</td>\n",
       "      <td>NaN</td>\n",
       "      <td>NaN</td>\n",
       "      <td>NaN</td>\n",
       "      <td>NaN</td>\n",
       "      <td>NaN</td>\n",
       "      <td>NaN</td>\n",
       "      <td>NaN</td>\n",
       "      <td>NaN</td>\n",
       "      <td>NaN</td>\n",
       "    </tr>\n",
       "    <tr>\n",
       "      <th>...</th>\n",
       "      <td>...</td>\n",
       "      <td>...</td>\n",
       "      <td>...</td>\n",
       "      <td>...</td>\n",
       "      <td>...</td>\n",
       "      <td>...</td>\n",
       "      <td>...</td>\n",
       "      <td>...</td>\n",
       "      <td>...</td>\n",
       "      <td>...</td>\n",
       "      <td>...</td>\n",
       "      <td>...</td>\n",
       "      <td>...</td>\n",
       "      <td>...</td>\n",
       "      <td>...</td>\n",
       "      <td>...</td>\n",
       "      <td>...</td>\n",
       "      <td>...</td>\n",
       "      <td>...</td>\n",
       "      <td>...</td>\n",
       "      <td>...</td>\n",
       "    </tr>\n",
       "    <tr>\n",
       "      <th>2568</th>\n",
       "      <td>None</td>\n",
       "      <td>USW00014762</td>\n",
       "      <td>PITTSBURGH ALLEGHENY CO AIRPORT, PA US</td>\n",
       "      <td>2020-03-27</td>\n",
       "      <td>3.58</td>\n",
       "      <td>0.21</td>\n",
       "      <td>NaN</td>\n",
       "      <td>NaN</td>\n",
       "      <td>NaN</td>\n",
       "      <td>59.0</td>\n",
       "      <td>...</td>\n",
       "      <td>146.0</td>\n",
       "      <td>NaN</td>\n",
       "      <td>NaN</td>\n",
       "      <td>NaN</td>\n",
       "      <td>NaN</td>\n",
       "      <td>NaN</td>\n",
       "      <td>NaN</td>\n",
       "      <td>NaN</td>\n",
       "      <td>NaN</td>\n",
       "      <td>NaN</td>\n",
       "    </tr>\n",
       "    <tr>\n",
       "      <th>2569</th>\n",
       "      <td>None</td>\n",
       "      <td>USW00014762</td>\n",
       "      <td>PITTSBURGH ALLEGHENY CO AIRPORT, PA US</td>\n",
       "      <td>2020-03-28</td>\n",
       "      <td>6.93</td>\n",
       "      <td>1.29</td>\n",
       "      <td>NaN</td>\n",
       "      <td>NaN</td>\n",
       "      <td>NaN</td>\n",
       "      <td>77.0</td>\n",
       "      <td>...</td>\n",
       "      <td>1535.0</td>\n",
       "      <td>NaN</td>\n",
       "      <td>NaN</td>\n",
       "      <td>NaN</td>\n",
       "      <td>NaN</td>\n",
       "      <td>NaN</td>\n",
       "      <td>NaN</td>\n",
       "      <td>NaN</td>\n",
       "      <td>NaN</td>\n",
       "      <td>NaN</td>\n",
       "    </tr>\n",
       "    <tr>\n",
       "      <th>2570</th>\n",
       "      <td>None</td>\n",
       "      <td>USW00014762</td>\n",
       "      <td>PITTSBURGH ALLEGHENY CO AIRPORT, PA US</td>\n",
       "      <td>2020-03-29</td>\n",
       "      <td>16.55</td>\n",
       "      <td>0.02</td>\n",
       "      <td>NaN</td>\n",
       "      <td>NaN</td>\n",
       "      <td>NaN</td>\n",
       "      <td>78.0</td>\n",
       "      <td>...</td>\n",
       "      <td>1408.0</td>\n",
       "      <td>NaN</td>\n",
       "      <td>NaN</td>\n",
       "      <td>NaN</td>\n",
       "      <td>NaN</td>\n",
       "      <td>NaN</td>\n",
       "      <td>NaN</td>\n",
       "      <td>NaN</td>\n",
       "      <td>NaN</td>\n",
       "      <td>NaN</td>\n",
       "    </tr>\n",
       "    <tr>\n",
       "      <th>2571</th>\n",
       "      <td>None</td>\n",
       "      <td>USW00014762</td>\n",
       "      <td>PITTSBURGH ALLEGHENY CO AIRPORT, PA US</td>\n",
       "      <td>2020-03-30</td>\n",
       "      <td>13.42</td>\n",
       "      <td>0.00</td>\n",
       "      <td>NaN</td>\n",
       "      <td>NaN</td>\n",
       "      <td>NaN</td>\n",
       "      <td>57.0</td>\n",
       "      <td>...</td>\n",
       "      <td>817.0</td>\n",
       "      <td>NaN</td>\n",
       "      <td>NaN</td>\n",
       "      <td>NaN</td>\n",
       "      <td>NaN</td>\n",
       "      <td>NaN</td>\n",
       "      <td>NaN</td>\n",
       "      <td>NaN</td>\n",
       "      <td>NaN</td>\n",
       "      <td>NaN</td>\n",
       "    </tr>\n",
       "    <tr>\n",
       "      <th>2572</th>\n",
       "      <td>None</td>\n",
       "      <td>USW00014762</td>\n",
       "      <td>PITTSBURGH ALLEGHENY CO AIRPORT, PA US</td>\n",
       "      <td>2020-03-31</td>\n",
       "      <td>3.80</td>\n",
       "      <td>0.06</td>\n",
       "      <td>NaN</td>\n",
       "      <td>NaN</td>\n",
       "      <td>NaN</td>\n",
       "      <td>47.0</td>\n",
       "      <td>...</td>\n",
       "      <td>110.0</td>\n",
       "      <td>NaN</td>\n",
       "      <td>NaN</td>\n",
       "      <td>NaN</td>\n",
       "      <td>NaN</td>\n",
       "      <td>NaN</td>\n",
       "      <td>NaN</td>\n",
       "      <td>NaN</td>\n",
       "      <td>NaN</td>\n",
       "      <td>NaN</td>\n",
       "    </tr>\n",
       "  </tbody>\n",
       "</table>\n",
       "<p>46226 rows × 33 columns</p>\n",
       "</div>"
      ],
      "text/plain": [
       "      WT18      STATION                                               NAME  \\\n",
       "0     None  USW00013874  ATLANTA HARTSFIELD JACKSON INTERNATIONAL AIRPO...   \n",
       "1     None  USW00013874  ATLANTA HARTSFIELD JACKSON INTERNATIONAL AIRPO...   \n",
       "2     None  USW00013874  ATLANTA HARTSFIELD JACKSON INTERNATIONAL AIRPO...   \n",
       "3     None  USW00013874  ATLANTA HARTSFIELD JACKSON INTERNATIONAL AIRPO...   \n",
       "4     None  USW00013874  ATLANTA HARTSFIELD JACKSON INTERNATIONAL AIRPO...   \n",
       "...    ...          ...                                                ...   \n",
       "2568  None  USW00014762             PITTSBURGH ALLEGHENY CO AIRPORT, PA US   \n",
       "2569  None  USW00014762             PITTSBURGH ALLEGHENY CO AIRPORT, PA US   \n",
       "2570  None  USW00014762             PITTSBURGH ALLEGHENY CO AIRPORT, PA US   \n",
       "2571  None  USW00014762             PITTSBURGH ALLEGHENY CO AIRPORT, PA US   \n",
       "2572  None  USW00014762             PITTSBURGH ALLEGHENY CO AIRPORT, PA US   \n",
       "\n",
       "            DATE   AWND  PRCP  SNOW  SNWD  TAVG  TMAX  ...    PGTM  WT10  \\\n",
       "0     2019-01-01   4.70  0.14   0.0   0.0  64.0  66.0  ...     NaN   NaN   \n",
       "1     2019-01-02   4.92  0.57   0.0   0.0  56.0  59.0  ...     NaN   NaN   \n",
       "2     2019-01-03   5.37  0.15   0.0   0.0  52.0  55.0  ...     NaN   NaN   \n",
       "3     2019-01-04  12.08  1.44   0.0   0.0  56.0  66.0  ...     NaN   NaN   \n",
       "4     2019-01-05  13.42  0.00   0.0   0.0  49.0  59.0  ...     NaN   NaN   \n",
       "...          ...    ...   ...   ...   ...   ...   ...  ...     ...   ...   \n",
       "2568  2020-03-27   3.58  0.21   NaN   NaN   NaN  59.0  ...   146.0   NaN   \n",
       "2569  2020-03-28   6.93  1.29   NaN   NaN   NaN  77.0  ...  1535.0   NaN   \n",
       "2570  2020-03-29  16.55  0.02   NaN   NaN   NaN  78.0  ...  1408.0   NaN   \n",
       "2571  2020-03-30  13.42  0.00   NaN   NaN   NaN  57.0  ...   817.0   NaN   \n",
       "2572  2020-03-31   3.80  0.06   NaN   NaN   NaN  47.0  ...   110.0   NaN   \n",
       "\n",
       "      WESD  SN32  SX32  PSUN  TSUN  TOBS  WT07  WT11  \n",
       "0      NaN   NaN   NaN   NaN   NaN   NaN   NaN   NaN  \n",
       "1      NaN   NaN   NaN   NaN   NaN   NaN   NaN   NaN  \n",
       "2      NaN   NaN   NaN   NaN   NaN   NaN   NaN   NaN  \n",
       "3      NaN   NaN   NaN   NaN   NaN   NaN   NaN   NaN  \n",
       "4      NaN   NaN   NaN   NaN   NaN   NaN   NaN   NaN  \n",
       "...    ...   ...   ...   ...   ...   ...   ...   ...  \n",
       "2568   NaN   NaN   NaN   NaN   NaN   NaN   NaN   NaN  \n",
       "2569   NaN   NaN   NaN   NaN   NaN   NaN   NaN   NaN  \n",
       "2570   NaN   NaN   NaN   NaN   NaN   NaN   NaN   NaN  \n",
       "2571   NaN   NaN   NaN   NaN   NaN   NaN   NaN   NaN  \n",
       "2572   NaN   NaN   NaN   NaN   NaN   NaN   NaN   NaN  \n",
       "\n",
       "[46226 rows x 33 columns]"
      ]
     },
     "execution_count": 6,
     "metadata": {},
     "output_type": "execute_result"
    }
   ],
   "source": [
    "airport_weather_df"
   ]
  },
  {
   "cell_type": "markdown",
   "metadata": {
    "id": "ESOue3vucSrF"
   },
   "source": [
    " ## Sprawdzenie\n",
    " Uruchom kod poniżej, aby sprawdzić, czy ta część została poprawnie wykonana."
   ]
  },
  {
   "cell_type": "code",
   "execution_count": 7,
   "metadata": {
    "id": "RyAhmF0tcSrF"
   },
   "outputs": [],
   "source": [
    "airport_weather_df_expected_shape = (46226, 33)\n",
    "assert airport_weather_df_expected_shape == airport_weather_df.shape"
   ]
  },
  {
   "cell_type": "markdown",
   "metadata": {},
   "source": [
    "działa :)"
   ]
  },
  {
   "cell_type": "markdown",
   "metadata": {
    "id": "s6AC9708cSrF"
   },
   "source": [
    " ## Zapis do pliku\n",
    " Tutaj zapisz ramkę `weather_df` do pliku `airport_weather.csv` w katalogu `data/raw`."
   ]
  },
  {
   "cell_type": "code",
   "execution_count": 8,
   "metadata": {
    "id": "-XdjTZeucSrG"
   },
   "outputs": [],
   "source": [
    "airport_weather_df.to_csv(\"/Users/Me/desktop/Airports_CL/data/raw/airport_weather.csv\", index=False)"
   ]
  },
  {
   "cell_type": "markdown",
   "metadata": {
    "id": "TjzQYZp7cSrG"
   },
   "source": [
    " # Pobranie `Aircraft`\n",
    " Zapoznaj się z dokumentacją endpointu `aircraft` a następnie pobierz dane produkcyjne samolotów. Wyniki zapisz do ramki `aircraft_df`, a następnie zapisz do pliku `aircraft.csv`.\n"
   ]
  },
  {
   "cell_type": "markdown",
   "metadata": {
    "id": "bxqkmGNOdjnL"
   },
   "source": [
    "#sprawdzenie połączenia"
   ]
  },
  {
   "cell_type": "code",
   "execution_count": 3,
   "metadata": {},
   "outputs": [
    {
     "data": {
      "text/plain": [
       "200"
      ]
     },
     "execution_count": 3,
     "metadata": {},
     "output_type": "execute_result"
    }
   ],
   "source": [
    "url_aircraft = \"https://api-datalab.coderslab.com/api/Aircraft\"\n",
    "response = requests.get(url_aircraft, headers = authorization)\n",
    "response.status_code"
   ]
  },
  {
   "cell_type": "markdown",
   "metadata": {},
   "source": [
    "#pozyskiwanie danych i umieszczanie ich w ramce"
   ]
  },
  {
   "cell_type": "code",
   "execution_count": 5,
   "metadata": {},
   "outputs": [
    {
     "name": "stderr",
     "output_type": "stream",
     "text": [
      "/var/folders/5w/n4j85_qn65vg8_tq2dsjly100000gn/T/ipykernel_8072/2850412998.py:4: FutureWarning: The frame.append method is deprecated and will be removed from pandas in a future version. Use pandas.concat instead.\n",
      "  aircraft_df = aircraft_df.append(variable_for_normalization)\n"
     ]
    },
    {
     "data": {
      "text/html": [
       "<div>\n",
       "<style scoped>\n",
       "    .dataframe tbody tr th:only-of-type {\n",
       "        vertical-align: middle;\n",
       "    }\n",
       "\n",
       "    .dataframe tbody tr th {\n",
       "        vertical-align: top;\n",
       "    }\n",
       "\n",
       "    .dataframe thead th {\n",
       "        text-align: right;\n",
       "    }\n",
       "</style>\n",
       "<table border=\"1\" class=\"dataframe\">\n",
       "  <thead>\n",
       "    <tr style=\"text-align: right;\">\n",
       "      <th></th>\n",
       "      <th>MANUFACTURE_YEAR</th>\n",
       "      <th>TAIL_NUM</th>\n",
       "      <th>NUMBER_OF_SEATS</th>\n",
       "    </tr>\n",
       "  </thead>\n",
       "  <tbody>\n",
       "    <tr>\n",
       "      <th>0</th>\n",
       "      <td>1944</td>\n",
       "      <td>N54514</td>\n",
       "      <td>0.0</td>\n",
       "    </tr>\n",
       "    <tr>\n",
       "      <th>1</th>\n",
       "      <td>1945</td>\n",
       "      <td>N1651M</td>\n",
       "      <td>0.0</td>\n",
       "    </tr>\n",
       "    <tr>\n",
       "      <th>2</th>\n",
       "      <td>1953</td>\n",
       "      <td>N100CE</td>\n",
       "      <td>0.0</td>\n",
       "    </tr>\n",
       "    <tr>\n",
       "      <th>3</th>\n",
       "      <td>1953</td>\n",
       "      <td>N141FL</td>\n",
       "      <td>0.0</td>\n",
       "    </tr>\n",
       "    <tr>\n",
       "      <th>4</th>\n",
       "      <td>1953</td>\n",
       "      <td>N151FL</td>\n",
       "      <td>0.0</td>\n",
       "    </tr>\n",
       "    <tr>\n",
       "      <th>...</th>\n",
       "      <td>...</td>\n",
       "      <td>...</td>\n",
       "      <td>...</td>\n",
       "    </tr>\n",
       "    <tr>\n",
       "      <th>7378</th>\n",
       "      <td>2019</td>\n",
       "      <td>N14011</td>\n",
       "      <td>337.0</td>\n",
       "    </tr>\n",
       "    <tr>\n",
       "      <th>7379</th>\n",
       "      <td>2019</td>\n",
       "      <td>N16008</td>\n",
       "      <td>337.0</td>\n",
       "    </tr>\n",
       "    <tr>\n",
       "      <th>7380</th>\n",
       "      <td>2019</td>\n",
       "      <td>N16009</td>\n",
       "      <td>337.0</td>\n",
       "    </tr>\n",
       "    <tr>\n",
       "      <th>7381</th>\n",
       "      <td>2019</td>\n",
       "      <td>N2250U</td>\n",
       "      <td>276.0</td>\n",
       "    </tr>\n",
       "    <tr>\n",
       "      <th>7382</th>\n",
       "      <td>2019</td>\n",
       "      <td>N2749U</td>\n",
       "      <td>276.0</td>\n",
       "    </tr>\n",
       "  </tbody>\n",
       "</table>\n",
       "<p>7383 rows × 3 columns</p>\n",
       "</div>"
      ],
      "text/plain": [
       "      MANUFACTURE_YEAR TAIL_NUM  NUMBER_OF_SEATS\n",
       "0                 1944   N54514              0.0\n",
       "1                 1945   N1651M              0.0\n",
       "2                 1953   N100CE              0.0\n",
       "3                 1953   N141FL              0.0\n",
       "4                 1953   N151FL              0.0\n",
       "...                ...      ...              ...\n",
       "7378              2019   N14011            337.0\n",
       "7379              2019   N16008            337.0\n",
       "7380              2019   N16009            337.0\n",
       "7381              2019   N2250U            276.0\n",
       "7382              2019   N2749U            276.0\n",
       "\n",
       "[7383 rows x 3 columns]"
      ]
     },
     "execution_count": 5,
     "metadata": {},
     "output_type": "execute_result"
    }
   ],
   "source": [
    "aircraft_df = pd.DataFrame()\n",
    "data_aircraft = response.json()\n",
    "variable_for_normalization = pd.json_normalize(data_aircraft)\n",
    "aircraft_df = aircraft_df.append(variable_for_normalization)\n",
    "aircraft_df"
   ]
  },
  {
   "cell_type": "markdown",
   "metadata": {
    "id": "d8i46jiccSrG"
   },
   "source": [
    " ## Sprawdzenie\n",
    " Uruchom kod poniżej, aby sprawdzić, czy ta część została poprawnie wykonana."
   ]
  },
  {
   "cell_type": "code",
   "execution_count": 6,
   "metadata": {
    "id": "pHH5brQscSrG"
   },
   "outputs": [],
   "source": [
    "aircraft_df_expected_shape = (7383, 3)\n",
    "assert aircraft_df_expected_shape == aircraft_df.shape"
   ]
  },
  {
   "cell_type": "markdown",
   "metadata": {},
   "source": [
    "#działa :)"
   ]
  },
  {
   "cell_type": "markdown",
   "metadata": {
    "id": "mWgrH0AWcSrG"
   },
   "source": [
    " ## Zapis do pliku\n",
    " Tutaj zapisz ramkę `aircraft_df` do pliku `aircraft.csv` w katalogu `data/raw`."
   ]
  },
  {
   "cell_type": "markdown",
   "metadata": {},
   "source": []
  },
  {
   "cell_type": "code",
   "execution_count": 7,
   "metadata": {
    "id": "mKmE38mycSrH"
   },
   "outputs": [],
   "source": [
    "aircraft_df.to_csv(\"/Users/Me/desktop/Airports_CL/data/raw/aircraft.csv\", index=False)"
   ]
  },
  {
   "cell_type": "markdown",
   "metadata": {
    "id": "MXI-QwVbcSrH"
   },
   "source": [
    " # Pobranie `Flight`\n",
    " Zapoznaj się z dokumentacją endpointu `flights`, następnie pobierz dane dotyczące ruchu lotniczego. Wyniki zapisz do ramki `flight_df`, a później do pliku `flight.csv`.\n",
    "\n",
    " Wskazówki:\n",
    " - Zwróć szczególną uwagę na konstrukcję endpointa,\n",
    " - Ze względu na wolumen danych, które tutaj się pobiorą, odradzamy zapisywanie danych bezpośrednio do ramki. Rekomendujemy podejście podobne do tego, z warsztatu na kursie `Python - analiza danych` - `Dzień 10 - Warsztat > Warsztat > Scrapowanie danych`,\n",
    " - Data początkowa danych to `2019-01-01`, zaś końcowa to `2020-03-31`, czyli 456 dni,\n",
    " - Ze względu na czas, jaki ten krok będzie się wykonywał, warto dodać w pętli instrukcję (lub kilka) `print`, aby monitorować przebieg wykonywania tego kroku."
   ]
  },
  {
   "cell_type": "code",
   "execution_count": null,
   "metadata": {
    "id": "X7hWOqzCcSrH"
   },
   "outputs": [],
   "source": []
  },
  {
   "cell_type": "markdown",
   "metadata": {
    "id": "9UJgH0CGcSrH"
   },
   "source": [
    " ## Sprawdzenie\n",
    " Uruchom kod poniżej, aby sprawdzić, czy ta część została poprawnie wykonana."
   ]
  },
  {
   "cell_type": "code",
   "execution_count": null,
   "metadata": {
    "id": "Igrh65KgcSrH"
   },
   "outputs": [],
   "source": [
    "flight_df_expected_shape = (9251880, 27)\n",
    "assert flight_df_expected_shape == flight_df.shape"
   ]
  },
  {
   "cell_type": "markdown",
   "metadata": {
    "id": "3nfBsnwNcSrI"
   },
   "source": [
    " ## Zapis do pliku\n",
    " Tutaj zapisz ramkę `flight_df` do pliku `flight.csv` w katalogu `data/raw`."
   ]
  },
  {
   "cell_type": "code",
   "execution_count": null,
   "metadata": {
    "id": "737lnCqacSrI"
   },
   "outputs": [],
   "source": []
  },
  {
   "cell_type": "markdown",
   "metadata": {
    "id": "AbxEeR32cSrI"
   },
   "source": [
    " # Podsumowanie\n",
    " W tym notatniku wykonaliśmy podstawowy krok w analizie danych - pozyskaliśmy je. Są gotowe do dalszej pracy, czyli możemy załadować je na bazę danych, a następnie zapoznać się z tym, jakie informacje ze sobą niosą. Kolejne notatniki będą służyły właśnie tym celom."
   ]
  },
  {
   "cell_type": "code",
   "execution_count": null,
   "metadata": {
    "id": "XFsso0kKcSrI"
   },
   "outputs": [],
   "source": [
    "msg = \"Wszystko wygląda OK :) Możesz przejść do kolejnego kroku.\"\n",
    "print(msg)"
   ]
  }
 ],
 "metadata": {
  "colab": {
   "provenance": []
  },
  "kernelspec": {
   "display_name": "Python 3 (ipykernel)",
   "language": "python",
   "name": "python3"
  },
  "language_info": {
   "codemirror_mode": {
    "name": "ipython",
    "version": 3
   },
   "file_extension": ".py",
   "mimetype": "text/x-python",
   "name": "python",
   "nbconvert_exporter": "python",
   "pygments_lexer": "ipython3",
   "version": "3.9.13"
  },
  "vscode": {
   "interpreter": {
    "hash": "97b21747a2d6163ce9759ba63e94e55ef90a08103eb2c9ebee1827489f5a0c25"
   }
  }
 },
 "nbformat": 4,
 "nbformat_minor": 1
}
